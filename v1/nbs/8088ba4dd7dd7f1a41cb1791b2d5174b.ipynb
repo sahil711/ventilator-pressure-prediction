{
 "cells": [
  {
   "cell_type": "code",
   "execution_count": 1,
   "metadata": {
    "colab": {
     "base_uri": "https://localhost:8080/"
    },
    "executionInfo": {
     "elapsed": 3418,
     "status": "ok",
     "timestamp": 1633704154874,
     "user": {
      "displayName": "NIKHIL KUMAR MISHRA",
      "photoUrl": "https://lh3.googleusercontent.com/a/default-user=s64",
      "userId": "08576587455339263909"
     },
     "user_tz": -330
    },
    "id": "BG1iwYxGjOVO",
    "outputId": "43b668e1-a4e2-4270-818a-353d04f364ad"
   },
   "outputs": [
    {
     "name": "stdout",
     "output_type": "stream",
     "text": [
      "Requirement already satisfied: tensorflow-addons in /usr/local/lib/python3.7/dist-packages (0.14.0)\n",
      "Requirement already satisfied: typeguard>=2.7 in /usr/local/lib/python3.7/dist-packages (from tensorflow-addons) (2.7.1)\n"
     ]
    }
   ],
   "source": [
    "!pip install tensorflow-addons"
   ]
  },
  {
   "cell_type": "code",
   "execution_count": 2,
   "metadata": {
    "colab": {
     "base_uri": "https://localhost:8080/"
    },
    "executionInfo": {
     "elapsed": 2402,
     "status": "ok",
     "timestamp": 1633704157273,
     "user": {
      "displayName": "NIKHIL KUMAR MISHRA",
      "photoUrl": "https://lh3.googleusercontent.com/a/default-user=s64",
      "userId": "08576587455339263909"
     },
     "user_tz": -330
    },
    "id": "4dQZoZ_VbaeK",
    "outputId": "55e6d514-dee5-4411-e400-d278d66980b3"
   },
   "outputs": [
    {
     "name": "stdout",
     "output_type": "stream",
     "text": [
      "Fri Oct  8 14:42:36 2021       \n",
      "+-----------------------------------------------------------------------------+\n",
      "| NVIDIA-SMI 470.74       Driver Version: 460.32.03    CUDA Version: 11.2     |\n",
      "|-------------------------------+----------------------+----------------------+\n",
      "| GPU  Name        Persistence-M| Bus-Id        Disp.A | Volatile Uncorr. ECC |\n",
      "| Fan  Temp  Perf  Pwr:Usage/Cap|         Memory-Usage | GPU-Util  Compute M. |\n",
      "|                               |                      |               MIG M. |\n",
      "|===============================+======================+======================|\n",
      "|   0  A100-SXM4-40GB      Off  | 00000000:00:04.0 Off |                    0 |\n",
      "| N/A   45C    P0    46W / 400W |      0MiB / 40536MiB |      0%      Default |\n",
      "|                               |                      |             Disabled |\n",
      "+-------------------------------+----------------------+----------------------+\n",
      "                                                                               \n",
      "+-----------------------------------------------------------------------------+\n",
      "| Processes:                                                                  |\n",
      "|  GPU   GI   CI        PID   Type   Process name                  GPU Memory |\n",
      "|        ID   ID                                                   Usage      |\n",
      "|=============================================================================|\n",
      "|  No running processes found                                                 |\n",
      "+-----------------------------------------------------------------------------+\n"
     ]
    }
   ],
   "source": [
    "!pip install wandb -qqq\n",
    "!nvidia-smi"
   ]
  },
  {
   "cell_type": "code",
   "execution_count": 3,
   "metadata": {
    "executionInfo": {
     "elapsed": 5,
     "status": "ok",
     "timestamp": 1633704157274,
     "user": {
      "displayName": "NIKHIL KUMAR MISHRA",
      "photoUrl": "https://lh3.googleusercontent.com/a/default-user=s64",
      "userId": "08576587455339263909"
     },
     "user_tz": -330
    },
    "id": "MPtdVVTklMGQ"
   },
   "outputs": [],
   "source": [
    "WANDB = True\n",
    "ver = 'v28'\n",
    "API_KEY = '4dad92fd17d935955886d8b751df8aa51f7a8523'\n",
    "TEST_PREDS_DATA_PATH = '/content/drive/MyDrive/kaggle/pressure prediction/dl_sub_v27.csv'"
   ]
  },
  {
   "cell_type": "code",
   "execution_count": 4,
   "metadata": {
    "colab": {
     "base_uri": "https://localhost:8080/"
    },
    "executionInfo": {
     "elapsed": 2232,
     "status": "ok",
     "timestamp": 1633704159502,
     "user": {
      "displayName": "NIKHIL KUMAR MISHRA",
      "photoUrl": "https://lh3.googleusercontent.com/a/default-user=s64",
      "userId": "08576587455339263909"
     },
     "user_tz": -330
    },
    "id": "0MRdEjbYWrtK",
    "outputId": "4a0a61ab-f8dc-43a4-99ac-891ca1208413"
   },
   "outputs": [
    {
     "name": "stderr",
     "output_type": "stream",
     "text": [
      "\u001b[34m\u001b[1mwandb\u001b[0m: Currently logged in as: \u001b[33mpressureprediction\u001b[0m (use `wandb login --relogin` to force relogin)\n",
      "\u001b[34m\u001b[1mwandb\u001b[0m: \u001b[33mWARNING\u001b[0m If you're specifying your api key in code, ensure this code is not shared publically.\n",
      "\u001b[34m\u001b[1mwandb\u001b[0m: \u001b[33mWARNING\u001b[0m Consider setting the WANDB_API_KEY environment variable, or running `wandb login` from the command line.\n",
      "\u001b[34m\u001b[1mwandb\u001b[0m: Appending key for api.wandb.ai to your netrc file: /root/.netrc\n"
     ]
    },
    {
     "data": {
      "text/plain": [
       "True"
      ]
     },
     "execution_count": 4,
     "metadata": {},
     "output_type": "execute_result"
    }
   ],
   "source": [
    "\n",
    "import wandb\n",
    "wandb.login(key=API_KEY)\n"
   ]
  },
  {
   "cell_type": "code",
   "execution_count": 5,
   "metadata": {
    "executionInfo": {
     "elapsed": 2478,
     "status": "ok",
     "timestamp": 1633704161976,
     "user": {
      "displayName": "NIKHIL KUMAR MISHRA",
      "photoUrl": "https://lh3.googleusercontent.com/a/default-user=s64",
      "userId": "08576587455339263909"
     },
     "user_tz": -330
    },
    "id": "V91NfQOluHX5"
   },
   "outputs": [],
   "source": [
    "import pandas as pd\n",
    "import numpy as np\n",
    "from IPython.display import display\n",
    "from sklearn.model_selection import train_test_split, GroupKFold, KFold\n",
    "from sklearn.metrics import mean_absolute_error as mae\n",
    "from tensorflow import keras\n",
    "import tensorflow as tf\n",
    "import tensorflow_addons as tfa\n",
    "from sklearn.preprocessing import normalize\n",
    "import gc\n",
    "from time import time\n",
    "import os"
   ]
  },
  {
   "cell_type": "code",
   "execution_count": 6,
   "metadata": {
    "executionInfo": {
     "elapsed": 3,
     "status": "ok",
     "timestamp": 1633704161978,
     "user": {
      "displayName": "NIKHIL KUMAR MISHRA",
      "photoUrl": "https://lh3.googleusercontent.com/a/default-user=s64",
      "userId": "08576587455339263909"
     },
     "user_tz": -330
    },
    "id": "W4iac3ZNuHX8"
   },
   "outputs": [],
   "source": [
    "import tensorflow as tf\n",
    "from tensorflow.keras.models import Sequential, Model\n",
    "from tensorflow.keras.layers import Dense, Conv1D, Flatten, Dropout, Input, BatchNormalization\n",
    "from tensorflow.keras.layers import *\n",
    "from tensorflow.keras import callbacks, optimizers\n",
    "from tensorflow.keras.optimizers import Adam\n",
    "import tensorflow.keras.backend as K\n",
    "from tensorflow.keras.models import load_model\n",
    "from sklearn.preprocessing import RobustScaler, LabelEncoder"
   ]
  },
  {
   "cell_type": "markdown",
   "metadata": {
    "id": "RWfkJZwCarHk"
   },
   "source": []
  },
  {
   "cell_type": "code",
   "execution_count": 7,
   "metadata": {
    "executionInfo": {
     "elapsed": 7704,
     "status": "ok",
     "timestamp": 1633704169679,
     "user": {
      "displayName": "NIKHIL KUMAR MISHRA",
      "photoUrl": "https://lh3.googleusercontent.com/a/default-user=s64",
      "userId": "08576587455339263909"
     },
     "user_tz": -330
    },
    "id": "ZGH1DnPDuHX9"
   },
   "outputs": [],
   "source": [
    "DATA_PATH = '/content/drive/MyDrive/kaggle/pressure prediction'\n",
    "\n",
    "submission = pd.read_csv(DATA_PATH + os.sep + 'sample_submission.csv')\n",
    "train = pd.read_csv(DATA_PATH + os.sep + 'train.csv')\n",
    "test = pd.read_csv(DATA_PATH + os.sep + 'test.csv')\n",
    "test['pressure'] = pd.read_csv(TEST_PREDS_DATA_PATH)['pressure']"
   ]
  },
  {
   "cell_type": "code",
   "execution_count": 8,
   "metadata": {
    "executionInfo": {
     "elapsed": 6,
     "status": "ok",
     "timestamp": 1633704169679,
     "user": {
      "displayName": "NIKHIL KUMAR MISHRA",
      "photoUrl": "https://lh3.googleusercontent.com/a/default-user=s64",
      "userId": "08576587455339263909"
     },
     "user_tz": -330
    },
    "id": "TUh16yEOqdzA"
   },
   "outputs": [],
   "source": [
    "fltr_out = train['u_out'] == 0\n",
    "target = train['pressure']"
   ]
  },
  {
   "cell_type": "code",
   "execution_count": 9,
   "metadata": {
    "executionInfo": {
     "elapsed": 5,
     "status": "ok",
     "timestamp": 1633704169679,
     "user": {
      "displayName": "NIKHIL KUMAR MISHRA",
      "photoUrl": "https://lh3.googleusercontent.com/a/default-user=s64",
      "userId": "08576587455339263909"
     },
     "user_tz": -330
    },
    "id": "lPdu6ZK1nSk5"
   },
   "outputs": [],
   "source": [
    "train['u_in_2'] = train['u_in'].copy()\n",
    "test['u_in_2'] = test['u_in'].copy()"
   ]
  },
  {
   "cell_type": "code",
   "execution_count": 10,
   "metadata": {
    "executionInfo": {
     "elapsed": 6,
     "status": "ok",
     "timestamp": 1633704169680,
     "user": {
      "displayName": "NIKHIL KUMAR MISHRA",
      "photoUrl": "https://lh3.googleusercontent.com/a/default-user=s64",
      "userId": "08576587455339263909"
     },
     "user_tz": -330
    },
    "id": "ALvx3YC-kgqh"
   },
   "outputs": [],
   "source": [
    "fltr = train['u_out'] == 0\n",
    "train.loc[fltr, 'u_in_2'] = 0\n",
    "test.loc[fltr, 'u_in_2'] = 0"
   ]
  },
  {
   "cell_type": "code",
   "execution_count": 11,
   "metadata": {
    "executionInfo": {
     "elapsed": 5,
     "status": "ok",
     "timestamp": 1633704169680,
     "user": {
      "displayName": "NIKHIL KUMAR MISHRA",
      "photoUrl": "https://lh3.googleusercontent.com/a/default-user=s64",
      "userId": "08576587455339263909"
     },
     "user_tz": -330
    },
    "id": "lDpiumSM0IXF"
   },
   "outputs": [],
   "source": [
    "oof_df = train[['id']].copy()"
   ]
  },
  {
   "cell_type": "code",
   "execution_count": 12,
   "metadata": {
    "executionInfo": {
     "elapsed": 4,
     "status": "ok",
     "timestamp": 1633704169680,
     "user": {
      "displayName": "NIKHIL KUMAR MISHRA",
      "photoUrl": "https://lh3.googleusercontent.com/a/default-user=s64",
      "userId": "08576587455339263909"
     },
     "user_tz": -330
    },
    "id": "s47sFS23uHX9"
   },
   "outputs": [],
   "source": [
    "SAMPLE_TRAIN = False\n",
    "SAMPLE_TEST = False"
   ]
  },
  {
   "cell_type": "code",
   "execution_count": 13,
   "metadata": {
    "executionInfo": {
     "elapsed": 4,
     "status": "ok",
     "timestamp": 1633704169680,
     "user": {
      "displayName": "NIKHIL KUMAR MISHRA",
      "photoUrl": "https://lh3.googleusercontent.com/a/default-user=s64",
      "userId": "08576587455339263909"
     },
     "user_tz": -330
    },
    "id": "70wPWXT4uHX-"
   },
   "outputs": [],
   "source": [
    "np.random.seed(10)\n",
    "\n",
    "if SAMPLE_TRAIN:\n",
    "    sampled = np.random.choice(train['breath_id'].unique(), size=5000, replace=False)\n",
    "    print(train.shape)\n",
    "    train = train[train['breath_id'].isin(sampled)].reset_index(drop=True)\n",
    "    print(train.shape)\n",
    "\n",
    "if SAMPLE_TEST:\n",
    "    sampled = np.random.choice(test['breath_id'].unique(), size=5000, replace=False)\n",
    "    test = test[test['breath_id'].isin(sampled)].reset_index(drop=True)"
   ]
  },
  {
   "cell_type": "code",
   "execution_count": 13,
   "metadata": {
    "executionInfo": {
     "elapsed": 5,
     "status": "ok",
     "timestamp": 1633704169681,
     "user": {
      "displayName": "NIKHIL KUMAR MISHRA",
      "photoUrl": "https://lh3.googleusercontent.com/a/default-user=s64",
      "userId": "08576587455339263909"
     },
     "user_tz": -330
    },
    "id": "IUOcOM2fmG9E"
   },
   "outputs": [],
   "source": []
  },
  {
   "cell_type": "code",
   "execution_count": 14,
   "metadata": {
    "executionInfo": {
     "elapsed": 5,
     "status": "ok",
     "timestamp": 1633704169681,
     "user": {
      "displayName": "NIKHIL KUMAR MISHRA",
      "photoUrl": "https://lh3.googleusercontent.com/a/default-user=s64",
      "userId": "08576587455339263909"
     },
     "user_tz": -330
    },
    "id": "gbSAYNcyytYV"
   },
   "outputs": [],
   "source": [
    "np.random.seed(10)\n",
    "EVAL = False\n",
    "TOTAL_BREATHS = train['breath_id'].nunique()\n",
    "TOTAL_TRAIN_BREATHS = int(TOTAL_BREATHS * 0.8)\n",
    "if EVAL:\n",
    "    sampled = np.random.choice(train['breath_id'].unique(), size=TOTAL_BREATHS, replace=False)\n",
    "    sample_train = sampled[:TOTAL_TRAIN_BREATHS]\n",
    "    sample_test = sampled[TOTAL_TRAIN_BREATHS:]\n",
    "    print(len(sample_test))\n",
    "    print(train.shape)\n",
    "    print(test.shape)\n",
    "    test = train[train['breath_id'].isin(sample_test)].reset_index(drop=True)\n",
    "    train = train[train['breath_id'].isin(sample_train)].reset_index(drop=True)\n",
    "    \n",
    "    print(train.shape)\n",
    "    print(test.shape)\n",
    "\n",
    "    test_preds = test['pressure']\n",
    "    del test['pressure']"
   ]
  },
  {
   "cell_type": "code",
   "execution_count": 15,
   "metadata": {
    "executionInfo": {
     "elapsed": 3,
     "status": "ok",
     "timestamp": 1633704170483,
     "user": {
      "displayName": "NIKHIL KUMAR MISHRA",
      "photoUrl": "https://lh3.googleusercontent.com/a/default-user=s64",
      "userId": "08576587455339263909"
     },
     "user_tz": -330
    },
    "id": "wWLXl0foE9qS"
   },
   "outputs": [],
   "source": [
    "train['bidc'] = train.groupby('breath_id').cumcount()\n",
    "test['bidc'] = test.groupby('breath_id').cumcount()"
   ]
  },
  {
   "cell_type": "code",
   "execution_count": 16,
   "metadata": {
    "executionInfo": {
     "elapsed": 399,
     "status": "ok",
     "timestamp": 1633704170880,
     "user": {
      "displayName": "NIKHIL KUMAR MISHRA",
      "photoUrl": "https://lh3.googleusercontent.com/a/default-user=s64",
      "userId": "08576587455339263909"
     },
     "user_tz": -330
    },
    "id": "Tk7ajHNVmJru"
   },
   "outputs": [],
   "source": [
    "train = train[train['bidc'] <= 38].reset_index(drop=True)\n",
    "test = test[test['bidc'] <= 38].reset_index(drop=True)"
   ]
  },
  {
   "cell_type": "code",
   "execution_count": 17,
   "metadata": {
    "executionInfo": {
     "elapsed": 2,
     "status": "ok",
     "timestamp": 1633704170881,
     "user": {
      "displayName": "NIKHIL KUMAR MISHRA",
      "photoUrl": "https://lh3.googleusercontent.com/a/default-user=s64",
      "userId": "08576587455339263909"
     },
     "user_tz": -330
    },
    "id": "tRxaP6pPmMN0"
   },
   "outputs": [],
   "source": [
    "sample_oof_df = train[['id']].copy()\n",
    "sample_preds_df = test[['id']].copy()"
   ]
  },
  {
   "cell_type": "code",
   "execution_count": 18,
   "metadata": {
    "executionInfo": {
     "elapsed": 8703,
     "status": "ok",
     "timestamp": 1633704179582,
     "user": {
      "displayName": "NIKHIL KUMAR MISHRA",
      "photoUrl": "https://lh3.googleusercontent.com/a/default-user=s64",
      "userId": "08576587455339263909"
     },
     "user_tz": -330
    },
    "id": "GHCIQsLX-c2W"
   },
   "outputs": [],
   "source": [
    "for df_tmp in [train, test]:\n",
    "    df_tmp['R_cat'] = df_tmp['R'].map({20: 1, 50: 2, 5: 0})\n",
    "    df_tmp['C_cat'] = df_tmp['C'].map({20: 1, 50: 2, 10: 0})\n",
    "    df_tmp['RC_cat'] = df_tmp['R'].astype('str')+'-' + df_tmp['C'].astype('str')\n",
    "    \n",
    "\n",
    "mapper = pd.Series(index=train['RC_cat'].unique(), data=np.arange(train['RC_cat'].nunique()))\n",
    "for df_tmp in [train, test]:\n",
    "    df_tmp['RC_cat'] = df_tmp['RC_cat'].map(mapper)\n",
    "\n",
    "cat_cols = ['R_cat', 'C_cat', 'RC_cat']\n",
    "cat_cols_unq_dct = {}\n",
    "for c in cat_cols:\n",
    "    cat_cols_unq_dct[c] = train[c].nunique()"
   ]
  },
  {
   "cell_type": "code",
   "execution_count": 19,
   "metadata": {
    "executionInfo": {
     "elapsed": 643,
     "status": "ok",
     "timestamp": 1633704180218,
     "user": {
      "displayName": "NIKHIL KUMAR MISHRA",
      "photoUrl": "https://lh3.googleusercontent.com/a/default-user=s64",
      "userId": "08576587455339263909"
     },
     "user_tz": -330
    },
    "id": "0LYWGWcRfBGl"
   },
   "outputs": [],
   "source": [
    "c = 'u_in'\n",
    "LAG_WINDOW_RANGE = range(3)\n",
    "train = train.assign(**{f'{c}_t-{t}': train.groupby('breath_id')[c].shift(t) for t in LAG_WINDOW_RANGE})\n",
    "test = test.assign(**{f'{c}_t-{t}': test.groupby('breath_id')[c].shift(t) for t in LAG_WINDOW_RANGE})\n",
    "use_fts = [f'{c}_t-{t}' for t in LAG_WINDOW_RANGE]"
   ]
  },
  {
   "cell_type": "code",
   "execution_count": 20,
   "metadata": {
    "executionInfo": {
     "elapsed": 5882,
     "status": "ok",
     "timestamp": 1633704186099,
     "user": {
      "displayName": "NIKHIL KUMAR MISHRA",
      "photoUrl": "https://lh3.googleusercontent.com/a/default-user=s64",
      "userId": "08576587455339263909"
     },
     "user_tz": -330
    },
    "id": "Wimp0EV1axFc"
   },
   "outputs": [],
   "source": [
    "for df_tmp in [train, test]:\n",
    "    df_tmp['u_in_lag_1'] = df_tmp.groupby('breath_id')['u_in'].shift(1).fillna(0)\n",
    "    df_tmp['u_in_lag_2'] = df_tmp.groupby('breath_id')['u_in'].shift(2).fillna(0)\n",
    "    df_tmp['u_in_lag_3'] = df_tmp.groupby('breath_id')['u_in'].shift(3).fillna(0)\n",
    "    df_tmp['u_in_lag_4'] = df_tmp.groupby('breath_id')['u_in'].shift(4).fillna(0)\n",
    "\n",
    "    df_tmp['u_in_cumsum'] = df_tmp.groupby('breath_id')['u_in'].cumsum()\n",
    "    df_tmp['u_in_cumsum_lag_1'] = df_tmp.groupby('breath_id')['u_in_cumsum'].shift(1).fillna(0)\n",
    "    df_tmp['u_in_cumsum_lag_2'] = df_tmp.groupby('breath_id')['u_in_cumsum'].shift(2).fillna(0)\n",
    "    df_tmp['u_in_cumsum_lag_3'] = df_tmp.groupby('breath_id')['u_in_cumsum'].shift(3).fillna(0)\n",
    "    df_tmp['u_in_cumsum_lag_4'] = df_tmp.groupby('breath_id')['u_in_cumsum'].shift(4).fillna(0)\n",
    "\n",
    "    df_tmp['u_in_cummean'] = df_tmp['u_in_cumsum']/(df_tmp.groupby('breath_id')['u_in'].cumcount() + 1)\n",
    "    df_tmp['u_in_cummax'] = df_tmp.groupby('breath_id')['u_in'].cummax()\n",
    "    df_tmp['next_u_in'] = df_tmp.groupby('breath_id')['u_in'].shift(-1).fillna(0)\n",
    "\n",
    "    df_tmp['roll_u_in_max'] = df_tmp[use_fts].max(axis=1).fillna(0)\n",
    "    df_tmp['roll_u_in_min'] = df_tmp[use_fts].min(axis=1).fillna(0)\n",
    "\n",
    "    # df_tmp['time_lag_1'] = df_tmp.groupby('breath_id')['time_step'].shift(1).fillna(0)\n",
    "    # df_tmp['time_lag_2'] = df_tmp.groupby('breath_id')['time_step'].shift(2).fillna(0)\n",
    "\n",
    "    df_tmp.drop(use_fts, axis=1, inplace=True)\n",
    "\n",
    "    df_tmp['area'] = df_tmp['time_step'] * df_tmp['u_in']\n",
    "    df_tmp['area'] = df_tmp.groupby('breath_id')['area'].cumsum()\n",
    "    df_tmp['area_lag_1'] = df_tmp.groupby('breath_id')['area'].shift(1).fillna(0)\n",
    "    df_tmp['area_lag_2'] = df_tmp.groupby('breath_id')['area'].shift(2).fillna(0)\n",
    "    df_tmp['area_lead_1'] = df_tmp.groupby('breath_id')['area'].shift(-1).fillna(0)\n",
    "    df_tmp['area_lead_2'] = df_tmp.groupby('breath_id')['area'].shift(-2).fillna(0)\n",
    "    df_tmp['area_diff_lag_1'] = df_tmp['area'] - df_tmp['area_lag_1']\n",
    "    df_tmp['area_diff_lead_1'] = df_tmp['area'] - df_tmp['area_lead_1']\n",
    "    \n",
    "    df_tmp['u_out_lag_1'] = df_tmp.groupby('breath_id')['u_out'].shift(1).fillna(0)\n",
    "    df_tmp['u_out_lag_2'] = df_tmp.groupby('breath_id')['u_out'].shift(2).fillna(0)\n",
    "\n",
    "    df_tmp['time_step*u_out']= df_tmp['time_step']*df_tmp['u_out']\n",
    "\n",
    "\n",
    "    df_tmp['R+C'] = df_tmp['R'] + df_tmp['C']\n",
    "    df_tmp['R/C'] = df_tmp['R'] / df_tmp['C']\n",
    "    df_tmp['u_in/C'] = df_tmp['u_in'] / df_tmp['C']\n",
    "    df_tmp['u_in/R'] = df_tmp['u_in'] / df_tmp['R']\n",
    "    df_tmp['u_in_cumsum/C'] = df_tmp['u_in_cumsum'] / df_tmp['C']\n",
    "    df_tmp['u_in_cumsum/R'] = df_tmp['u_in_cumsum'] / df_tmp['R']\n",
    "    df_tmp['area*R/C'] = df_tmp['area'] * df_tmp['R/C']\n",
    "    df_tmp['u_in_cumsum*R/C'] = df_tmp['u_in_cumsum'] * df_tmp['R/C']\n",
    "    df_tmp['u_in_cumsum*R/C_lag_1'] = df_tmp.groupby('breath_id')['u_in_cumsum*R/C'].shift(1).fillna(0)\n",
    "\n",
    "\n",
    "    df_tmp['timestep_diff'] = (df_tmp['time_step'] - df_tmp.groupby('breath_id')['time_step'].shift(1)).fillna(0)\n",
    "    df_tmp['u_in_diff'] = (df_tmp['u_in'] - df_tmp.groupby('breath_id')['u_in'].shift(1)).fillna(0)\n",
    "    df_tmp['u_in_pct_change'] = (df_tmp['u_in_diff']/(df_tmp['u_in_lag_1'] + 1e-4)).fillna(0)\n",
    "    df_tmp['u_in_diff_next'] = (df_tmp['u_in'] - df_tmp.groupby('breath_id')['u_in'].shift(-1)).fillna(0)\n",
    "    df_tmp['u_in_log'] = np.log1p(df_tmp['u_in'])\n",
    "    df_tmp['u_in_cumsum_log'] = np.log1p(df_tmp['u_in_cumsum'])"
   ]
  },
  {
   "cell_type": "code",
   "execution_count": 21,
   "metadata": {
    "executionInfo": {
     "elapsed": 9,
     "status": "ok",
     "timestamp": 1633704186100,
     "user": {
      "displayName": "NIKHIL KUMAR MISHRA",
      "photoUrl": "https://lh3.googleusercontent.com/a/default-user=s64",
      "userId": "08576587455339263909"
     },
     "user_tz": -330
    },
    "id": "3_wqzAOiconq"
   },
   "outputs": [],
   "source": [
    "num_cols = [c for c in train.columns if c not in ['id', 'pressure', 'breath_id', 'u_out'] + cat_cols]"
   ]
  },
  {
   "cell_type": "code",
   "execution_count": 22,
   "metadata": {
    "executionInfo": {
     "elapsed": 35315,
     "status": "ok",
     "timestamp": 1633704221407,
     "user": {
      "displayName": "NIKHIL KUMAR MISHRA",
      "photoUrl": "https://lh3.googleusercontent.com/a/default-user=s64",
      "userId": "08576587455339263909"
     },
     "user_tz": -330
    },
    "id": "vvqAc6BNceeD"
   },
   "outputs": [],
   "source": [
    "RS = RobustScaler()\n",
    "train[num_cols] = RS.fit_transform(train[num_cols])\n",
    "test[num_cols] = RS.transform(test[num_cols])"
   ]
  },
  {
   "cell_type": "code",
   "execution_count": 23,
   "metadata": {
    "executionInfo": {
     "elapsed": 12,
     "status": "ok",
     "timestamp": 1633704221409,
     "user": {
      "displayName": "NIKHIL KUMAR MISHRA",
      "photoUrl": "https://lh3.googleusercontent.com/a/default-user=s64",
      "userId": "08576587455339263909"
     },
     "user_tz": -330
    },
    "id": "bhzpCGJmgPkC"
   },
   "outputs": [],
   "source": [
    "class VentilatorDataset:\n",
    "    def __init__(self, df, cat_cols, num_cols):\n",
    "        if \"pressure\" not in df.columns:\n",
    "            df['pressure'] = 0\n",
    "\n",
    "        self.pressures = df[['pressure']].to_numpy().reshape(-1, df['bidc'].nunique())\n",
    "        self.u_outs = df[['u_out']].to_numpy().reshape(-1, df['bidc'].nunique())\n",
    "        self.breath_ids = df[['breath_id']].to_numpy().reshape(-1, df['bidc'].nunique())\n",
    "        self.breath_ids_ser = df['breath_id'].drop_duplicates()\n",
    "        self.inputs = df[num_cols + cat_cols].values.reshape(-1, df['bidc'].nunique(), len(num_cols + cat_cols))"
   ]
  },
  {
   "cell_type": "code",
   "execution_count": 24,
   "metadata": {
    "colab": {
     "base_uri": "https://localhost:8080/"
    },
    "executionInfo": {
     "elapsed": 810,
     "status": "ok",
     "timestamp": 1633704222207,
     "user": {
      "displayName": "NIKHIL KUMAR MISHRA",
      "photoUrl": "https://lh3.googleusercontent.com/a/default-user=s64",
      "userId": "08576587455339263909"
     },
     "user_tz": -330
    },
    "id": "DENAh_d3GO-s",
    "outputId": "4d976e1c-b917-4876-8123-80ccf2b74880"
   },
   "outputs": [
    {
     "name": "stdout",
     "output_type": "stream",
     "text": [
      "(980850, 52) (980850, 52)\n"
     ]
    }
   ],
   "source": [
    "test_breath_ids = test['breath_id'].unique()\n",
    "breath_ids_a = test_breath_ids[:len(test_breath_ids)//2]\n",
    "\n",
    "fltr = test['breath_id'].isin(breath_ids_a)\n",
    "test_a = test[fltr].reset_index(drop=True)\n",
    "test_b = test[~fltr].reset_index(drop=True)\n",
    "\n",
    "print(test_a.shape, test_b.shape)"
   ]
  },
  {
   "cell_type": "code",
   "execution_count": 25,
   "metadata": {
    "colab": {
     "base_uri": "https://localhost:8080/"
    },
    "executionInfo": {
     "elapsed": 1446,
     "status": "ok",
     "timestamp": 1633704223652,
     "user": {
      "displayName": "NIKHIL KUMAR MISHRA",
      "photoUrl": "https://lh3.googleusercontent.com/a/default-user=s64",
      "userId": "08576587455339263909"
     },
     "user_tz": -330
    },
    "id": "6SiHBR3FuHYB",
    "outputId": "7828dbcd-f599-4e2d-e68d-4fde752a3ede"
   },
   "outputs": [
    {
     "name": "stdout",
     "output_type": "stream",
     "text": [
      "CPU times: user 1.59 s, sys: 16.3 ms, total: 1.61 s\n",
      "Wall time: 1.6 s\n"
     ]
    }
   ],
   "source": [
    "%%time\n",
    "test_data_a = VentilatorDataset(test_a, cat_cols, num_cols)\n",
    "test_data_b = VentilatorDataset(test_b, cat_cols, num_cols)\n",
    "train_data = VentilatorDataset(train, cat_cols, num_cols)\n",
    "_ = gc.collect()"
   ]
  },
  {
   "cell_type": "code",
   "execution_count": 26,
   "metadata": {
    "colab": {
     "base_uri": "https://localhost:8080/"
    },
    "executionInfo": {
     "elapsed": 18,
     "status": "ok",
     "timestamp": 1633704223652,
     "user": {
      "displayName": "NIKHIL KUMAR MISHRA",
      "photoUrl": "https://lh3.googleusercontent.com/a/default-user=s64",
      "userId": "08576587455339263909"
     },
     "user_tz": -330
    },
    "id": "csc30ZcgiVHy",
    "outputId": "f591871d-c1db-4f93-f85d-d73aef20007e"
   },
   "outputs": [
    {
     "data": {
      "text/plain": [
       "((75450, 39, 48), (75450, 39), (75450, 39))"
      ]
     },
     "execution_count": 26,
     "metadata": {},
     "output_type": "execute_result"
    }
   ],
   "source": [
    "train_data.inputs.shape, train_data.pressures.shape, train_data.u_outs.shape"
   ]
  },
  {
   "cell_type": "code",
   "execution_count": 27,
   "metadata": {
    "colab": {
     "base_uri": "https://localhost:8080/"
    },
    "executionInfo": {
     "elapsed": 15,
     "status": "ok",
     "timestamp": 1633704223652,
     "user": {
      "displayName": "NIKHIL KUMAR MISHRA",
      "photoUrl": "https://lh3.googleusercontent.com/a/default-user=s64",
      "userId": "08576587455339263909"
     },
     "user_tz": -330
    },
    "id": "EE6qgsxkbg-a",
    "outputId": "bea997de-45f8-4c9d-a7ed-4d55e96a6cf0"
   },
   "outputs": [
    {
     "data": {
      "text/plain": [
       "((25150, 39, 48), (25150, 39), (25150, 39))"
      ]
     },
     "execution_count": 27,
     "metadata": {},
     "output_type": "execute_result"
    }
   ],
   "source": [
    "test_data_a.inputs.shape, test_data_a.pressures.shape, test_data_a.u_outs.shape"
   ]
  },
  {
   "cell_type": "code",
   "execution_count": 28,
   "metadata": {
    "colab": {
     "base_uri": "https://localhost:8080/"
    },
    "executionInfo": {
     "elapsed": 15,
     "status": "ok",
     "timestamp": 1633704223653,
     "user": {
      "displayName": "NIKHIL KUMAR MISHRA",
      "photoUrl": "https://lh3.googleusercontent.com/a/default-user=s64",
      "userId": "08576587455339263909"
     },
     "user_tz": -330
    },
    "id": "uSwufvCnHUt9",
    "outputId": "8b645230-e57f-4172-ff56-d9d58d4d93e7"
   },
   "outputs": [
    {
     "data": {
      "text/plain": [
       "((25150, 39, 48), (25150, 39), (25150, 39))"
      ]
     },
     "execution_count": 28,
     "metadata": {},
     "output_type": "execute_result"
    }
   ],
   "source": [
    "test_data_b.inputs.shape, test_data_b.pressures.shape, test_data_b.u_outs.shape"
   ]
  },
  {
   "cell_type": "code",
   "execution_count": 29,
   "metadata": {
    "executionInfo": {
     "elapsed": 13,
     "status": "ok",
     "timestamp": 1633704223653,
     "user": {
      "displayName": "NIKHIL KUMAR MISHRA",
      "photoUrl": "https://lh3.googleusercontent.com/a/default-user=s64",
      "userId": "08576587455339263909"
     },
     "user_tz": -330
    },
    "id": "w3L8GRxQuHYC"
   },
   "outputs": [],
   "source": [
    "NUMERICAL_INPUTS_CNT = len(num_cols)\n",
    "N_FEATS = train_data.inputs.shape[2]\n",
    "WINDOW_SIZE=train_data.inputs.shape[1]"
   ]
  },
  {
   "cell_type": "code",
   "execution_count": 30,
   "metadata": {
    "executionInfo": {
     "elapsed": 13,
     "status": "ok",
     "timestamp": 1633704223653,
     "user": {
      "displayName": "NIKHIL KUMAR MISHRA",
      "photoUrl": "https://lh3.googleusercontent.com/a/default-user=s64",
      "userId": "08576587455339263909"
     },
     "user_tz": -330
    },
    "id": "mcI8g9KruHYC"
   },
   "outputs": [],
   "source": [
    "# del train, test\n",
    "# _ = gc.collect()"
   ]
  },
  {
   "cell_type": "code",
   "execution_count": 31,
   "metadata": {
    "colab": {
     "base_uri": "https://localhost:8080/"
    },
    "executionInfo": {
     "elapsed": 13,
     "status": "ok",
     "timestamp": 1633704223654,
     "user": {
      "displayName": "NIKHIL KUMAR MISHRA",
      "photoUrl": "https://lh3.googleusercontent.com/a/default-user=s64",
      "userId": "08576587455339263909"
     },
     "user_tz": -330
    },
    "id": "14KM_SIE-7Qc",
    "outputId": "413f6b2c-1fd9-41a8-a43f-7d00209ff05d"
   },
   "outputs": [
    {
     "data": {
      "text/plain": [
       "45"
      ]
     },
     "execution_count": 31,
     "metadata": {},
     "output_type": "execute_result"
    }
   ],
   "source": [
    "NUMERICAL_INPUTS_CNT"
   ]
  },
  {
   "cell_type": "code",
   "execution_count": 32,
   "metadata": {
    "executionInfo": {
     "elapsed": 11,
     "status": "ok",
     "timestamp": 1633704223654,
     "user": {
      "displayName": "NIKHIL KUMAR MISHRA",
      "photoUrl": "https://lh3.googleusercontent.com/a/default-user=s64",
      "userId": "08576587455339263909"
     },
     "user_tz": -330
    },
    "id": "M7qlaFnc_Qtk"
   },
   "outputs": [],
   "source": [
    "def custom_mean_absolute_error(y_true, y_pred, w_out):\n",
    "    return K.mean(K.abs(y_pred - y_true))\n",
    "\n",
    "def custom_metric(y_true, y_pred, w_out):\n",
    "    return mae(y_true[w_out == 0], y_pred[w_out == 0])\n",
    "\n",
    "def get_LSTM_model(Config):\n",
    "    w_out = Input(shape=(WINDOW_SIZE, 1))\n",
    "    targets = Input(shape=(WINDOW_SIZE, 1))\n",
    "    inputs = Input(shape=(WINDOW_SIZE, N_FEATS))\n",
    "    \n",
    "    \n",
    "    num_inputs = inputs[:, :, :NUMERICAL_INPUTS_CNT]\n",
    "    cat_inputs = inputs[:, :, NUMERICAL_INPUTS_CNT:]\n",
    "\n",
    "    initializer = tf.keras.initializers.glorot_uniform(seed=66)\n",
    "\n",
    "    for i, c in enumerate(cat_cols):\n",
    "        cat_inp = cat_inputs[:, :, i:i+1]\n",
    "        embed = Embedding(input_dim=cat_cols_unq_dct[c]+2, output_dim=Config.CAT_DIM, embeddings_initializer=initializer)(cat_inp)\n",
    "        reshaped = tf.reshape(embed, shape=(-1, embed.shape[1],  embed.shape[2] * embed.shape[3]))\n",
    "        reshaped = SpatialDropout1D(0.1, seed=2)(reshaped)\n",
    "        num_inputs = concatenate([reshaped, num_inputs], axis=2)\n",
    "    \n",
    "    \n",
    "    x = num_inputs\n",
    "\n",
    "    for i in range(Config.N_LSTM_LAYERS):\n",
    "        x = tf.keras.layers.Bidirectional(tf.keras.layers.LSTM(Config.LSTM_SIZE, return_sequences=True))(x)\n",
    "\n",
    "    x = tf.keras.layers.Dense(Config.DENSE_SIZE, activation='relu')(x)\n",
    "    out = tf.keras.layers.Dense(1)(x)\n",
    "    \n",
    "    model = tf.keras.Model(inputs=[inputs, targets, w_out], outputs=out)\n",
    "    model.add_loss(custom_mean_absolute_error(targets, out, w_out))\n",
    "    model.compile(optimizer=Adam(), loss=None)\n",
    "    \n",
    "    return model"
   ]
  },
  {
   "cell_type": "code",
   "execution_count": 33,
   "metadata": {
    "executionInfo": {
     "elapsed": 12,
     "status": "ok",
     "timestamp": 1633704223655,
     "user": {
      "displayName": "NIKHIL KUMAR MISHRA",
      "photoUrl": "https://lh3.googleusercontent.com/a/default-user=s64",
      "userId": "08576587455339263909"
     },
     "user_tz": -330
    },
    "id": "vzMCjsmhuHYD"
   },
   "outputs": [],
   "source": [
    "class IntervalEvaluation(tf.keras.callbacks.Callback):\n",
    "    def __init__(self, validation_data=(), interval=10, save_model=True, Config={}, fold=0, wandb_enabled=True):\n",
    "\n",
    "        super(tf.keras.callbacks.Callback, self).__init__()\n",
    "\n",
    "        self.interval = interval\n",
    "        self.X_val, self.y_val, self.w_out_val = validation_data\n",
    "        self.best_score = np.inf\n",
    "        self.save_model = save_model\n",
    "        self.learning_rates = pd.Series(index=np.arange(Config.N_EPOCHS),\n",
    "                                        data=np.linspace(Config.END_LR,\n",
    "                                                         Config.START_LR,\n",
    "                                                         num=Config.N_EPOCHS)[::-1]).to_dict()\n",
    "        self.wandb_enabled = wandb_enabled\n",
    "        \n",
    "\n",
    "    def on_epoch_begin(self, epoch, logs={}):\n",
    "        self.start_time = time()\n",
    "        tf.keras.backend.set_value(self.model.optimizer.lr, self.learning_rates[epoch])\n",
    "        self.curr_lr = float(tf.keras.backend.get_value(self.model.optimizer.learning_rate))\n",
    "        \n",
    "    def on_epoch_end(self, epoch, logs={}):\n",
    "        keys = list(logs.keys())\n",
    "        \n",
    "        y_pred = self.model.predict([self.X_val, self.y_val, self.w_out_val], verbose=0, batch_size=64*32, use_multiprocessing=False)\n",
    "        val_score = custom_metric(self.y_val.flatten(), y_pred.flatten(), self.w_out_val.flatten())\n",
    "        \n",
    "        if val_score < self.best_score:\n",
    "            self.best_score = val_score\n",
    "            if self.save_model:\n",
    "                tf.keras.models.save_model(self.model, f'best_model', save_format=\"h5\")\n",
    "\n",
    "        total_time = round(time() - self.start_time, 2)\n",
    "        if self.wandb_enabled:\n",
    "            wandb.log({f'Fold {fold} epoch': epoch, f\"Fold {fold} train_loss\": logs['loss'], f\"Fold {fold} val_score\": val_score, f'Fold {fold} best_val_score': self.best_score, f'Fold {fold} total_time_in_seconds': total_time})\n",
    "        \n",
    "        if epoch % self.interval == 0:\n",
    "            print(f\"Epoch: {epoch:03d} curr_lr: {self.curr_lr:.1e} - train_loss: {logs['loss']:.03f} val_score: {val_score:.03f}  best_val_score: {self.best_score:.03f}  last_epoch t={total_time}s\")"
   ]
  },
  {
   "cell_type": "code",
   "execution_count": 34,
   "metadata": {
    "executionInfo": {
     "elapsed": 12,
     "status": "ok",
     "timestamp": 1633704223655,
     "user": {
      "displayName": "NIKHIL KUMAR MISHRA",
      "photoUrl": "https://lh3.googleusercontent.com/a/default-user=s64",
      "userId": "08576587455339263909"
     },
     "user_tz": -330
    },
    "id": "pWbDIUxUuHYD"
   },
   "outputs": [],
   "source": [
    "class Config:\n",
    "    N_SPLITS = 10\n",
    "    N_EPOCHS = 200\n",
    "    BATCH_SIZE = 128\n",
    "    CAT_DIM = 256\n",
    "    START_LR = 5e-4\n",
    "    END_LR = 1e-5\n",
    "    LSTM_SIZE = 512\n",
    "    DENSE_SIZE = 512\n",
    "    N_LSTM_LAYERS = 3\n",
    "    DROPOUT = 0.1\n",
    "    SEQUENCE_LENGTH = 39\n",
    "    LOG_NUM_COLS = False\n",
    "\n",
    "Config_dct = {key:value for key, value in Config.__dict__.items() if not key.startswith('__') and not callable(key)}"
   ]
  },
  {
   "cell_type": "code",
   "execution_count": null,
   "metadata": {
    "colab": {
     "base_uri": "https://localhost:8080/",
     "height": 34
    },
    "id": "rIpzPQIaFo-j",
    "outputId": "5649149c-d5b2-4b6e-f4b4-3e4d73f202df"
   },
   "outputs": [
    {
     "data": {
      "text/html": [
       "\n",
       "                    Syncing run <strong><a href=\"https://wandb.ai/pressureprediction/google-brain/runs/1ifxlaca\" target=\"_blank\">nikhil_pressure_prediction_dl_v28</a></strong> to <a href=\"https://wandb.ai/pressureprediction/google-brain\" target=\"_blank\">Weights & Biases</a> (<a href=\"https://docs.wandb.com/integrations/jupyter.html\" target=\"_blank\">docs</a>).<br/>\n",
       "\n",
       "                "
      ],
      "text/plain": [
       "<IPython.core.display.HTML object>"
      ]
     },
     "metadata": {},
     "output_type": "display_data"
    }
   ],
   "source": [
    "if WANDB:\n",
    "    wandb.init(project=\"google-brain\",\n",
    "               name=f'nikhil_pressure_prediction_dl_{ver}',\n",
    "               save_code=True,\n",
    "               config=Config_dct)"
   ]
  },
  {
   "cell_type": "code",
   "execution_count": null,
   "metadata": {
    "colab": {
     "base_uri": "https://localhost:8080/"
    },
    "id": "IZvlQBKrHvpJ",
    "outputId": "29aceb7f-e28e-494b-cb91-84826ab2990a"
   },
   "outputs": [
    {
     "data": {
      "text/plain": [
       "((75450, 39, 48), (25150, 39, 48))"
      ]
     },
     "execution_count": 36,
     "metadata": {},
     "output_type": "execute_result"
    }
   ],
   "source": [
    "train_data.inputs.shape, test_data_a.inputs.shape"
   ]
  },
  {
   "cell_type": "code",
   "execution_count": null,
   "metadata": {
    "id": "4vQdmUdrHfD-"
   },
   "outputs": [],
   "source": [
    "history_lst = []\n",
    "oofs = np.zeros(train_data.pressures.shape)\n",
    "preds_lst_a = []\n",
    "preds_lst_b = []\n",
    "kf = KFold(n_splits=Config.N_SPLITS, shuffle=True, random_state=101)\n",
    "\n",
    "for fold, (trn_idx, val_idx) in enumerate(kf.split(train_data.pressures, train_data.pressures)):\n",
    "\n",
    "        print('-'*15, '>', f'Fold {fold}', '<', '-'*15, '\\n')\n",
    "        X_trn, X_val = train_data.inputs[trn_idx], train_data.inputs[val_idx]\n",
    "        \n",
    "\n",
    "\n",
    "        y_trn, y_val = train_data.pressures[trn_idx], train_data.pressures[val_idx]\n",
    "        wt_trn, wt_val = train_data.u_outs[trn_idx], train_data.u_outs[val_idx]\n",
    "\n",
    "        if fold % 2 == 0:\n",
    "            X_trn = np.concatenate((X_trn, test_data_a.inputs))\n",
    "            y_trn = np.concatenate((y_trn, test_data_a.pressures))\n",
    "            wt_trn = np.concatenate((wt_trn, test_data_a.u_outs))\n",
    "        \n",
    "        else:\n",
    "            X_trn = np.concatenate((X_trn, test_data_b.inputs))\n",
    "            y_trn = np.concatenate((y_trn, test_data_b.pressures))\n",
    "            wt_trn = np.concatenate((wt_trn, test_data_b.u_outs))\n",
    "\n",
    "\n",
    "        Config.STEPS_PER_EPOCH = len(X_trn)/Config.BATCH_SIZE\n",
    "        model = get_LSTM_model(Config)\n",
    "\n",
    "        print_val_results = IntervalEvaluation(\n",
    "            validation_data=(X_val, y_val, wt_val),\n",
    "            interval=1,\n",
    "            Config=Config,\n",
    "            fold=fold,\n",
    "            wandb_enabled = WANDB\n",
    "            )\n",
    "\n",
    "        history = model.fit([X_trn, y_trn, wt_trn], None,\n",
    "                    validation_data=([X_val, y_val, wt_val], None),\n",
    "                    verbose=0,\n",
    "                    epochs=Config.N_EPOCHS,\n",
    "                    batch_size=Config.BATCH_SIZE,\n",
    "                    callbacks=[print_val_results]\n",
    "                    )\n",
    "\n",
    "        history_lst.append(history)\n",
    "        del model, X_trn, y_trn, wt_trn, print_val_results\n",
    "        _ = gc.collect()\n",
    "\n",
    "        best_model = load_model('best_model', custom_objects={'custom_mean_absolute_error': custom_mean_absolute_error})\n",
    "\n",
    "        vp = best_model.predict([X_val, y_val, wt_val]).squeeze(-1)\n",
    "        oofs[val_idx] = vp\n",
    "\n",
    "        val_score = round(custom_metric(y_val.flatten(), vp.flatten(), wt_val.flatten()), 4)\n",
    "        print(f'\\nMAE val: {val_score}')\n",
    "\n",
    "        if fold % 2 == 0:\n",
    "            tp_b = best_model.predict([test_data_b.inputs, test_data_b.pressures, test_data_b.u_outs]).squeeze(-1)\n",
    "            preds_lst_b.append(tp_b)\n",
    "\n",
    "        else:\n",
    "            tp_a = best_model.predict([test_data_a.inputs, test_data_a.pressures, test_data_a.u_outs]).squeeze(-1)\n",
    "            preds_lst_a.append(tp_a)\n",
    "\n",
    "\n",
    "        del X_val, y_val, wt_val, best_model\n",
    "        _ = gc.collect()\n",
    "\n",
    "oof_score = round(custom_metric(train_data.pressures.flatten(), oofs.flatten(), train_data.u_outs.flatten()), 4)\n",
    "print(f'\\nMAE OOF: {oof_score}')\n",
    "if WANDB:\n",
    "    wandb.finish()"
   ]
  },
  {
   "cell_type": "code",
   "execution_count": null,
   "metadata": {
    "id": "3IPC3dbfqBKm"
   },
   "outputs": [],
   "source": [
    "preds_a = np.median(np.array(preds_lst_a), axis=0)\n",
    "preds_b = np.median(np.array(preds_lst_b), axis=0)\n",
    "preds_a.shape, preds_b.shape"
   ]
  },
  {
   "cell_type": "code",
   "execution_count": null,
   "metadata": {
    "id": "zhcC88YDKMsE"
   },
   "outputs": [],
   "source": [
    "preds_df_a = test_a[['id',]]\n",
    "preds_df_b = test_b[['id']]"
   ]
  },
  {
   "cell_type": "code",
   "execution_count": null,
   "metadata": {
    "id": "94HFy9I4KbtT"
   },
   "outputs": [],
   "source": [
    "preds_df_a['pressure'] = preds_a.flatten()\n",
    "preds_df_b['pressure'] = preds_b.flatten()"
   ]
  },
  {
   "cell_type": "code",
   "execution_count": null,
   "metadata": {
    "id": "gvkkKiY9KaWy"
   },
   "outputs": [],
   "source": [
    "sample_preds_df = pd.concat([preds_df_a, preds_df_b]).reset_index(drop=True)\n",
    "sample_preds_df"
   ]
  },
  {
   "cell_type": "code",
   "execution_count": null,
   "metadata": {
    "id": "Dt_sq2Ohokbl"
   },
   "outputs": [],
   "source": [
    "sample_oof_df['pressure'] = oofs.flatten()"
   ]
  },
  {
   "cell_type": "code",
   "execution_count": null,
   "metadata": {
    "id": "xCX7x3j9pdhI"
   },
   "outputs": [],
   "source": [
    "print(submission.shape)\n",
    "submission = pd.merge(submission[['id']], sample_preds_df, on='id', how='left')\n",
    "submission['pressure'] = submission['pressure'].fillna(0)\n",
    "print(submission.shape)"
   ]
  },
  {
   "cell_type": "code",
   "execution_count": null,
   "metadata": {
    "id": "J6gjoMwCokQ0"
   },
   "outputs": [],
   "source": [
    "print(oof_df.shape)\n",
    "oof_df = pd.merge(oof_df[['id']], sample_oof_df, on='id', how='left')\n",
    "oof_df['pressure'] = oof_df['pressure'].fillna(0)\n",
    "print(oof_df.shape)"
   ]
  },
  {
   "cell_type": "code",
   "execution_count": null,
   "metadata": {
    "id": "4wroYXdtqtUh"
   },
   "outputs": [],
   "source": [
    "mae(target[fltr_out], oof_df['pressure'][fltr_out])"
   ]
  },
  {
   "cell_type": "code",
   "execution_count": null,
   "metadata": {
    "id": "TPGhRYHTuHYE"
   },
   "outputs": [],
   "source": [
    "path = DATA_PATH + os.sep + f'dl_oof_{ver}.csv'\n",
    "oof_df.to_csv(path, index=False)"
   ]
  },
  {
   "cell_type": "code",
   "execution_count": null,
   "metadata": {
    "id": "Y9O5xzYAuHYE"
   },
   "outputs": [],
   "source": [
    "path = DATA_PATH + os.sep + f'dl_sub_{ver}.csv'\n",
    "submission.to_csv(path, index=False)"
   ]
  }
 ],
 "metadata": {
  "accelerator": "GPU",
  "colab": {
   "collapsed_sections": [],
   "name": "pressure_prediction_dl_v28.ipynb",
   "provenance": [
    {
     "file_id": "1bynIPGBHFChfWZNqNDiw3TuGin7fE1h6",
     "timestamp": 1633422409725
    }
   ]
  },
  "kernelspec": {
   "display_name": "Python 3",
   "language": "python",
   "name": "python3"
  },
  "language_info": {
   "codemirror_mode": {
    "name": "ipython",
    "version": 3
   },
   "file_extension": ".py",
   "mimetype": "text/x-python",
   "name": "python",
   "nbconvert_exporter": "python",
   "pygments_lexer": "ipython3",
   "version": "3.8.8"
  }
 },
 "nbformat": 4,
 "nbformat_minor": 4
}
