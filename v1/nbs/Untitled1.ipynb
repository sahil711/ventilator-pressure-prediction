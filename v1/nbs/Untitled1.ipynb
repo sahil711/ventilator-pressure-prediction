{
 "cells": [
  {
   "cell_type": "code",
   "execution_count": 1,
   "id": "chronic-organic",
   "metadata": {},
   "outputs": [],
   "source": [
    "%load_ext autoreload\n",
    "%autoreload 2\n",
    "import pandas as pd\n",
    "import os\n",
    "import sys\n",
    "sys.path.append('../src')\n",
    "from torch import nn\n",
    "from omegaconf import OmegaConf\n",
    "from torch.utils.data import DataLoader\n",
    "import torch\n",
    "from sklearn.model_selection import GroupKFold\n",
    "from sklearn.preprocessing import StandardScaler\n",
    "import numpy as np\n",
    "from tqdm import tqdm\n",
    "pd.options.display.max_columns=100"
   ]
  },
  {
   "cell_type": "code",
   "execution_count": 25,
   "id": "tracked-vision",
   "metadata": {},
   "outputs": [],
   "source": [
    "from datalib import VentilatorData,VentilatorData2,VentilatorDataClassification,VentilatorDataMultiLabel\n",
    "import modellib\n",
    "from utils import fc\n",
    "import datalib\n",
    "from train_classification import get_group_dict"
   ]
  },
  {
   "cell_type": "code",
   "execution_count": 15,
   "id": "centered-dallas",
   "metadata": {},
   "outputs": [],
   "source": [
    "DATA_DIR = '/mnt/disks/extra_data/kaggle/ventilator_prediction/'\n",
    "R_MAP = {5: 0, 50: 1, 20: 2}\n",
    "C_MAP = {20: 0, 50: 1, 10: 2}\n",
    "RC_MAP = {'2050': 0,\n",
    " '2020': 1,\n",
    " '5020': 2,\n",
    " '5050': 3,\n",
    " '550': 4,\n",
    " '520': 5,\n",
    " '5010': 6,\n",
    " '2010': 7,\n",
    " '510': 8}"
   ]
  },
  {
   "cell_type": "code",
   "execution_count": 4,
   "id": "assumed-inclusion",
   "metadata": {},
   "outputs": [],
   "source": [
    "train = pd.read_csv(os.path.join(DATA_DIR,'train.csv'))\n",
    "test = pd.read_csv(os.path.join(DATA_DIR,'test.csv'))\n",
    "train.breath_id = train.breath_id.map(dict(zip(train.breath_id.unique().tolist(),range(train.breath_id.nunique()))))\n",
    "test.breath_id = train.breath_id.map(dict(zip(train.breath_id.unique().tolist(),range(train.breath_id.nunique()))))"
   ]
  },
  {
   "cell_type": "code",
   "execution_count": 5,
   "id": "formed-dictionary",
   "metadata": {},
   "outputs": [
    {
     "data": {
      "text/html": [
       "<div>\n",
       "<style scoped>\n",
       "    .dataframe tbody tr th:only-of-type {\n",
       "        vertical-align: middle;\n",
       "    }\n",
       "\n",
       "    .dataframe tbody tr th {\n",
       "        vertical-align: top;\n",
       "    }\n",
       "\n",
       "    .dataframe thead th {\n",
       "        text-align: right;\n",
       "    }\n",
       "</style>\n",
       "<table border=\"1\" class=\"dataframe\">\n",
       "  <thead>\n",
       "    <tr style=\"text-align: right;\">\n",
       "      <th></th>\n",
       "      <th>id</th>\n",
       "      <th>breath_id</th>\n",
       "      <th>R</th>\n",
       "      <th>C</th>\n",
       "      <th>time_step</th>\n",
       "      <th>u_in</th>\n",
       "      <th>u_out</th>\n",
       "      <th>pressure</th>\n",
       "    </tr>\n",
       "  </thead>\n",
       "  <tbody>\n",
       "    <tr>\n",
       "      <th>0</th>\n",
       "      <td>1</td>\n",
       "      <td>0</td>\n",
       "      <td>20</td>\n",
       "      <td>50</td>\n",
       "      <td>0.000000</td>\n",
       "      <td>0.083334</td>\n",
       "      <td>0</td>\n",
       "      <td>5.837492</td>\n",
       "    </tr>\n",
       "    <tr>\n",
       "      <th>1</th>\n",
       "      <td>2</td>\n",
       "      <td>0</td>\n",
       "      <td>20</td>\n",
       "      <td>50</td>\n",
       "      <td>0.033652</td>\n",
       "      <td>18.383041</td>\n",
       "      <td>0</td>\n",
       "      <td>5.907794</td>\n",
       "    </tr>\n",
       "    <tr>\n",
       "      <th>2</th>\n",
       "      <td>3</td>\n",
       "      <td>0</td>\n",
       "      <td>20</td>\n",
       "      <td>50</td>\n",
       "      <td>0.067514</td>\n",
       "      <td>22.509278</td>\n",
       "      <td>0</td>\n",
       "      <td>7.876254</td>\n",
       "    </tr>\n",
       "    <tr>\n",
       "      <th>3</th>\n",
       "      <td>4</td>\n",
       "      <td>0</td>\n",
       "      <td>20</td>\n",
       "      <td>50</td>\n",
       "      <td>0.101542</td>\n",
       "      <td>22.808822</td>\n",
       "      <td>0</td>\n",
       "      <td>11.742872</td>\n",
       "    </tr>\n",
       "    <tr>\n",
       "      <th>4</th>\n",
       "      <td>5</td>\n",
       "      <td>0</td>\n",
       "      <td>20</td>\n",
       "      <td>50</td>\n",
       "      <td>0.135756</td>\n",
       "      <td>25.355850</td>\n",
       "      <td>0</td>\n",
       "      <td>12.234987</td>\n",
       "    </tr>\n",
       "  </tbody>\n",
       "</table>\n",
       "</div>"
      ],
      "text/plain": [
       "   id  breath_id   R   C  time_step       u_in  u_out   pressure\n",
       "0   1          0  20  50   0.000000   0.083334      0   5.837492\n",
       "1   2          0  20  50   0.033652  18.383041      0   5.907794\n",
       "2   3          0  20  50   0.067514  22.509278      0   7.876254\n",
       "3   4          0  20  50   0.101542  22.808822      0  11.742872\n",
       "4   5          0  20  50   0.135756  25.355850      0  12.234987"
      ]
     },
     "execution_count": 5,
     "metadata": {},
     "output_type": "execute_result"
    }
   ],
   "source": [
    "train.head()"
   ]
  },
  {
   "cell_type": "code",
   "execution_count": 6,
   "id": "micro-lecture",
   "metadata": {},
   "outputs": [],
   "source": [
    "train['RC'] = train['R'].astype('str')+train['C'].astype('str')"
   ]
  },
  {
   "cell_type": "code",
   "execution_count": 7,
   "id": "excess-marshall",
   "metadata": {},
   "outputs": [],
   "source": [
    "target1 = train[['breath_id','RC']].drop_duplicates()"
   ]
  },
  {
   "cell_type": "code",
   "execution_count": 16,
   "id": "leading-chicago",
   "metadata": {},
   "outputs": [],
   "source": [
    "target1.RC = target1.RC.map(RC_MAP)"
   ]
  },
  {
   "cell_type": "code",
   "execution_count": 17,
   "id": "spatial-leone",
   "metadata": {},
   "outputs": [
    {
     "data": {
      "text/plain": [
       "breath_id    0\n",
       "RC           0\n",
       "Name: 0, dtype: int64"
      ]
     },
     "execution_count": 17,
     "metadata": {},
     "output_type": "execute_result"
    }
   ],
   "source": [
    "target1.iloc[0]"
   ]
  },
  {
   "cell_type": "code",
   "execution_count": 23,
   "id": "built-tunisia",
   "metadata": {},
   "outputs": [
    {
     "name": "stderr",
     "output_type": "stream",
     "text": [
      "../src/utils.py:4: SettingWithCopyWarning: \n",
      "A value is trying to be set on a copy of a slice from a DataFrame.\n",
      "Try using .loc[row_indexer,col_indexer] = value instead\n",
      "\n",
      "See the caveats in the documentation: https://pandas.pydata.org/pandas-docs/stable/user_guide/indexing.html#returning-a-view-versus-a-copy\n",
      "  df[\"mean_{}_last_{}\".format(\"u_in\", i)] = (\n",
      "../src/utils.py:7: SettingWithCopyWarning: \n",
      "A value is trying to be set on a copy of a slice from a DataFrame.\n",
      "Try using .loc[row_indexer,col_indexer] = value instead\n",
      "\n",
      "See the caveats in the documentation: https://pandas.pydata.org/pandas-docs/stable/user_guide/indexing.html#returning-a-view-versus-a-copy\n",
      "  df[\"min_{}_last_{}\".format(\"u_in\", i)] = (\n"
     ]
    },
    {
     "name": "stdout",
     "output_type": "stream",
     "text": [
      "5\n",
      "10\n",
      "5\n",
      "10\n",
      "CPU times: user 1min 18s, sys: 8.1 s, total: 1min 26s\n",
      "Wall time: 1min 26s\n"
     ]
    }
   ],
   "source": [
    "%%time\n",
    "train_df = fc(train[['id','breath_id','time_step','u_out','u_in','pressure']],include_R_C=False)"
   ]
  },
  {
   "cell_type": "code",
   "execution_count": 24,
   "id": "involved-castle",
   "metadata": {},
   "outputs": [
    {
     "data": {
      "text/html": [
       "<div>\n",
       "<style scoped>\n",
       "    .dataframe tbody tr th:only-of-type {\n",
       "        vertical-align: middle;\n",
       "    }\n",
       "\n",
       "    .dataframe tbody tr th {\n",
       "        vertical-align: top;\n",
       "    }\n",
       "\n",
       "    .dataframe thead th {\n",
       "        text-align: right;\n",
       "    }\n",
       "</style>\n",
       "<table border=\"1\" class=\"dataframe\">\n",
       "  <thead>\n",
       "    <tr style=\"text-align: right;\">\n",
       "      <th></th>\n",
       "      <th>id</th>\n",
       "      <th>breath_id</th>\n",
       "      <th>time_step</th>\n",
       "      <th>u_out</th>\n",
       "      <th>u_in</th>\n",
       "      <th>pressure</th>\n",
       "      <th>mean_u_in_last_5</th>\n",
       "      <th>min_u_in_last_5</th>\n",
       "      <th>max_u_in_last_5</th>\n",
       "      <th>std_u_in_last_5</th>\n",
       "      <th>mean_u_in_last_10</th>\n",
       "      <th>min_u_in_last_10</th>\n",
       "      <th>max_u_in_last_10</th>\n",
       "      <th>std_u_in_last_10</th>\n",
       "      <th>mean_u_in_next_5</th>\n",
       "      <th>min_u_in_next_5</th>\n",
       "      <th>max_u_in_next_5</th>\n",
       "      <th>std_u_in_next_5</th>\n",
       "      <th>mean_u_in_next_10</th>\n",
       "      <th>min_u_in_next_10</th>\n",
       "      <th>max_u_in_next_10</th>\n",
       "      <th>std_u_in_next_10</th>\n",
       "      <th>u_in_cumsum</th>\n",
       "      <th>u_in_cummean</th>\n",
       "      <th>u_in_cummax</th>\n",
       "      <th>lag_u_in_1</th>\n",
       "      <th>lead_u_in_1</th>\n",
       "      <th>lag_u_in_2</th>\n",
       "      <th>lead_u_in_2</th>\n",
       "      <th>lag_u_in_3</th>\n",
       "      <th>lead_u_in_3</th>\n",
       "      <th>lag_u_in_4</th>\n",
       "      <th>lead_u_in_4</th>\n",
       "      <th>auc</th>\n",
       "      <th>lag_auc_1</th>\n",
       "      <th>lead_auc_1</th>\n",
       "      <th>lag_auc_2</th>\n",
       "      <th>lead_auc_2</th>\n",
       "      <th>per_change_u_in_lag_u_in_1</th>\n",
       "      <th>per_change_u_in_lead_u_in_1</th>\n",
       "      <th>per_change_u_in_lag_u_in_2</th>\n",
       "      <th>per_change_u_in_lead_u_in_2</th>\n",
       "      <th>per_change_u_in_lag_u_in_3</th>\n",
       "      <th>per_change_u_in_lead_u_in_3</th>\n",
       "      <th>per_change_u_in_lag_u_in_4</th>\n",
       "      <th>per_change_u_in_lead_u_in_4</th>\n",
       "      <th>per_change_auc_lag_auc_1</th>\n",
       "      <th>per_change_auc_lead_auc_1</th>\n",
       "      <th>per_change_auc_lag_auc_2</th>\n",
       "      <th>per_change_auc_lead_auc_2</th>\n",
       "    </tr>\n",
       "  </thead>\n",
       "  <tbody>\n",
       "    <tr>\n",
       "      <th>79</th>\n",
       "      <td>1</td>\n",
       "      <td>0</td>\n",
       "      <td>0.000000</td>\n",
       "      <td>0</td>\n",
       "      <td>0.083334</td>\n",
       "      <td>5.837492</td>\n",
       "      <td>0.083334</td>\n",
       "      <td>0.083334</td>\n",
       "      <td>0.083334</td>\n",
       "      <td>0.000000</td>\n",
       "      <td>0.083334</td>\n",
       "      <td>0.083334</td>\n",
       "      <td>0.083334</td>\n",
       "      <td>0.000000</td>\n",
       "      <td>17.828065</td>\n",
       "      <td>0.083334</td>\n",
       "      <td>25.355850</td>\n",
       "      <td>10.229525</td>\n",
       "      <td>22.651316</td>\n",
       "      <td>0.083334</td>\n",
       "      <td>28.313036</td>\n",
       "      <td>8.515846</td>\n",
       "      <td>0.083334</td>\n",
       "      <td>0.083334</td>\n",
       "      <td>0.083334</td>\n",
       "      <td>0.000000</td>\n",
       "      <td>18.383041</td>\n",
       "      <td>0.000000</td>\n",
       "      <td>22.509278</td>\n",
       "      <td>0.000000</td>\n",
       "      <td>22.808822</td>\n",
       "      <td>0.000000</td>\n",
       "      <td>25.355850</td>\n",
       "      <td>0.000000</td>\n",
       "      <td>0.000000</td>\n",
       "      <td>0.310718</td>\n",
       "      <td>0.000000</td>\n",
       "      <td>0.692350</td>\n",
       "      <td>0.999988</td>\n",
       "      <td>-219.592083</td>\n",
       "      <td>0.999988</td>\n",
       "      <td>-269.105925</td>\n",
       "      <td>0.999988</td>\n",
       "      <td>-272.700387</td>\n",
       "      <td>0.999988</td>\n",
       "      <td>-303.264110</td>\n",
       "      <td>0.000000</td>\n",
       "      <td>-310718.055487</td>\n",
       "      <td>0.000000</td>\n",
       "      <td>-692350.186987</td>\n",
       "    </tr>\n",
       "    <tr>\n",
       "      <th>78</th>\n",
       "      <td>2</td>\n",
       "      <td>0</td>\n",
       "      <td>0.033652</td>\n",
       "      <td>0</td>\n",
       "      <td>18.383041</td>\n",
       "      <td>5.907794</td>\n",
       "      <td>9.233188</td>\n",
       "      <td>0.083334</td>\n",
       "      <td>18.383041</td>\n",
       "      <td>12.939847</td>\n",
       "      <td>9.233188</td>\n",
       "      <td>0.083334</td>\n",
       "      <td>18.383041</td>\n",
       "      <td>12.939847</td>\n",
       "      <td>23.263372</td>\n",
       "      <td>18.383041</td>\n",
       "      <td>27.259866</td>\n",
       "      <td>3.351989</td>\n",
       "      <td>25.329658</td>\n",
       "      <td>18.383041</td>\n",
       "      <td>28.313036</td>\n",
       "      <td>3.151678</td>\n",
       "      <td>18.466375</td>\n",
       "      <td>9.233188</td>\n",
       "      <td>18.383041</td>\n",
       "      <td>0.083334</td>\n",
       "      <td>22.509278</td>\n",
       "      <td>0.000000</td>\n",
       "      <td>22.808822</td>\n",
       "      <td>0.000000</td>\n",
       "      <td>25.355850</td>\n",
       "      <td>0.000000</td>\n",
       "      <td>27.259866</td>\n",
       "      <td>0.310718</td>\n",
       "      <td>0.000000</td>\n",
       "      <td>0.692350</td>\n",
       "      <td>0.000000</td>\n",
       "      <td>0.771038</td>\n",
       "      <td>0.995467</td>\n",
       "      <td>-0.224459</td>\n",
       "      <td>1.000000</td>\n",
       "      <td>-0.240753</td>\n",
       "      <td>1.000000</td>\n",
       "      <td>-0.379307</td>\n",
       "      <td>1.000000</td>\n",
       "      <td>-0.482881</td>\n",
       "      <td>0.999997</td>\n",
       "      <td>-1.228222</td>\n",
       "      <td>0.999997</td>\n",
       "      <td>-1.481467</td>\n",
       "    </tr>\n",
       "    <tr>\n",
       "      <th>77</th>\n",
       "      <td>3</td>\n",
       "      <td>0</td>\n",
       "      <td>0.067514</td>\n",
       "      <td>0</td>\n",
       "      <td>22.509278</td>\n",
       "      <td>7.876254</td>\n",
       "      <td>13.658551</td>\n",
       "      <td>0.083334</td>\n",
       "      <td>22.509278</td>\n",
       "      <td>11.936136</td>\n",
       "      <td>13.658551</td>\n",
       "      <td>0.083334</td>\n",
       "      <td>22.509278</td>\n",
       "      <td>11.936136</td>\n",
       "      <td>25.012260</td>\n",
       "      <td>22.509278</td>\n",
       "      <td>27.259866</td>\n",
       "      <td>2.278378</td>\n",
       "      <td>26.167635</td>\n",
       "      <td>22.509278</td>\n",
       "      <td>28.313036</td>\n",
       "      <td>2.004828</td>\n",
       "      <td>40.975653</td>\n",
       "      <td>13.658551</td>\n",
       "      <td>22.509278</td>\n",
       "      <td>18.383041</td>\n",
       "      <td>22.808822</td>\n",
       "      <td>0.083334</td>\n",
       "      <td>25.355850</td>\n",
       "      <td>0.000000</td>\n",
       "      <td>27.259866</td>\n",
       "      <td>0.000000</td>\n",
       "      <td>27.127486</td>\n",
       "      <td>0.692350</td>\n",
       "      <td>0.310718</td>\n",
       "      <td>0.771038</td>\n",
       "      <td>0.000000</td>\n",
       "      <td>0.823936</td>\n",
       "      <td>0.183313</td>\n",
       "      <td>-0.013308</td>\n",
       "      <td>0.996298</td>\n",
       "      <td>-0.126462</td>\n",
       "      <td>1.000000</td>\n",
       "      <td>-0.211050</td>\n",
       "      <td>1.000000</td>\n",
       "      <td>-0.205169</td>\n",
       "      <td>0.551212</td>\n",
       "      <td>-0.113653</td>\n",
       "      <td>0.999999</td>\n",
       "      <td>-0.190057</td>\n",
       "    </tr>\n",
       "    <tr>\n",
       "      <th>76</th>\n",
       "      <td>4</td>\n",
       "      <td>0</td>\n",
       "      <td>0.101542</td>\n",
       "      <td>0</td>\n",
       "      <td>22.808822</td>\n",
       "      <td>11.742872</td>\n",
       "      <td>15.946119</td>\n",
       "      <td>0.083334</td>\n",
       "      <td>22.808822</td>\n",
       "      <td>10.766279</td>\n",
       "      <td>15.946119</td>\n",
       "      <td>0.083334</td>\n",
       "      <td>22.808822</td>\n",
       "      <td>10.766279</td>\n",
       "      <td>25.871951</td>\n",
       "      <td>22.808822</td>\n",
       "      <td>27.259866</td>\n",
       "      <td>1.872664</td>\n",
       "      <td>26.716034</td>\n",
       "      <td>22.808822</td>\n",
       "      <td>28.313036</td>\n",
       "      <td>1.602636</td>\n",
       "      <td>63.784476</td>\n",
       "      <td>15.946119</td>\n",
       "      <td>22.808822</td>\n",
       "      <td>22.509278</td>\n",
       "      <td>25.355850</td>\n",
       "      <td>18.383041</td>\n",
       "      <td>27.259866</td>\n",
       "      <td>0.083334</td>\n",
       "      <td>27.127486</td>\n",
       "      <td>0.000000</td>\n",
       "      <td>26.807732</td>\n",
       "      <td>0.771038</td>\n",
       "      <td>0.692350</td>\n",
       "      <td>0.823936</td>\n",
       "      <td>0.310718</td>\n",
       "      <td>0.892947</td>\n",
       "      <td>0.013133</td>\n",
       "      <td>-0.111669</td>\n",
       "      <td>0.194038</td>\n",
       "      <td>-0.195146</td>\n",
       "      <td>0.996346</td>\n",
       "      <td>-0.189342</td>\n",
       "      <td>1.000000</td>\n",
       "      <td>-0.175323</td>\n",
       "      <td>0.102054</td>\n",
       "      <td>-0.068607</td>\n",
       "      <td>0.597013</td>\n",
       "      <td>-0.158110</td>\n",
       "    </tr>\n",
       "    <tr>\n",
       "      <th>75</th>\n",
       "      <td>5</td>\n",
       "      <td>0</td>\n",
       "      <td>0.135756</td>\n",
       "      <td>0</td>\n",
       "      <td>25.355850</td>\n",
       "      <td>12.234987</td>\n",
       "      <td>17.828065</td>\n",
       "      <td>0.083334</td>\n",
       "      <td>25.355850</td>\n",
       "      <td>10.229525</td>\n",
       "      <td>17.828065</td>\n",
       "      <td>0.083334</td>\n",
       "      <td>25.355850</td>\n",
       "      <td>10.229525</td>\n",
       "      <td>26.883130</td>\n",
       "      <td>25.355850</td>\n",
       "      <td>27.864715</td>\n",
       "      <td>0.935871</td>\n",
       "      <td>27.114142</td>\n",
       "      <td>25.355850</td>\n",
       "      <td>28.313036</td>\n",
       "      <td>0.834682</td>\n",
       "      <td>89.140326</td>\n",
       "      <td>17.828065</td>\n",
       "      <td>25.355850</td>\n",
       "      <td>22.808822</td>\n",
       "      <td>27.259866</td>\n",
       "      <td>22.509278</td>\n",
       "      <td>27.127486</td>\n",
       "      <td>18.383041</td>\n",
       "      <td>26.807732</td>\n",
       "      <td>0.083334</td>\n",
       "      <td>27.864715</td>\n",
       "      <td>0.823936</td>\n",
       "      <td>0.771038</td>\n",
       "      <td>0.892947</td>\n",
       "      <td>0.692350</td>\n",
       "      <td>0.924862</td>\n",
       "      <td>0.100451</td>\n",
       "      <td>-0.075092</td>\n",
       "      <td>0.112265</td>\n",
       "      <td>-0.069871</td>\n",
       "      <td>0.274998</td>\n",
       "      <td>-0.057260</td>\n",
       "      <td>0.996713</td>\n",
       "      <td>-0.098946</td>\n",
       "      <td>0.064202</td>\n",
       "      <td>-0.083757</td>\n",
       "      <td>0.159704</td>\n",
       "      <td>-0.122491</td>\n",
       "    </tr>\n",
       "  </tbody>\n",
       "</table>\n",
       "</div>"
      ],
      "text/plain": [
       "    id  breath_id  time_step  u_out       u_in   pressure  mean_u_in_last_5  \\\n",
       "79   1          0   0.000000      0   0.083334   5.837492          0.083334   \n",
       "78   2          0   0.033652      0  18.383041   5.907794          9.233188   \n",
       "77   3          0   0.067514      0  22.509278   7.876254         13.658551   \n",
       "76   4          0   0.101542      0  22.808822  11.742872         15.946119   \n",
       "75   5          0   0.135756      0  25.355850  12.234987         17.828065   \n",
       "\n",
       "    min_u_in_last_5  max_u_in_last_5  std_u_in_last_5  mean_u_in_last_10  \\\n",
       "79         0.083334         0.083334         0.000000           0.083334   \n",
       "78         0.083334        18.383041        12.939847           9.233188   \n",
       "77         0.083334        22.509278        11.936136          13.658551   \n",
       "76         0.083334        22.808822        10.766279          15.946119   \n",
       "75         0.083334        25.355850        10.229525          17.828065   \n",
       "\n",
       "    min_u_in_last_10  max_u_in_last_10  std_u_in_last_10  mean_u_in_next_5  \\\n",
       "79          0.083334          0.083334          0.000000         17.828065   \n",
       "78          0.083334         18.383041         12.939847         23.263372   \n",
       "77          0.083334         22.509278         11.936136         25.012260   \n",
       "76          0.083334         22.808822         10.766279         25.871951   \n",
       "75          0.083334         25.355850         10.229525         26.883130   \n",
       "\n",
       "    min_u_in_next_5  max_u_in_next_5  std_u_in_next_5  mean_u_in_next_10  \\\n",
       "79         0.083334        25.355850        10.229525          22.651316   \n",
       "78        18.383041        27.259866         3.351989          25.329658   \n",
       "77        22.509278        27.259866         2.278378          26.167635   \n",
       "76        22.808822        27.259866         1.872664          26.716034   \n",
       "75        25.355850        27.864715         0.935871          27.114142   \n",
       "\n",
       "    min_u_in_next_10  max_u_in_next_10  std_u_in_next_10  u_in_cumsum  \\\n",
       "79          0.083334         28.313036          8.515846     0.083334   \n",
       "78         18.383041         28.313036          3.151678    18.466375   \n",
       "77         22.509278         28.313036          2.004828    40.975653   \n",
       "76         22.808822         28.313036          1.602636    63.784476   \n",
       "75         25.355850         28.313036          0.834682    89.140326   \n",
       "\n",
       "    u_in_cummean  u_in_cummax  lag_u_in_1  lead_u_in_1  lag_u_in_2  \\\n",
       "79      0.083334     0.083334    0.000000    18.383041    0.000000   \n",
       "78      9.233188    18.383041    0.083334    22.509278    0.000000   \n",
       "77     13.658551    22.509278   18.383041    22.808822    0.083334   \n",
       "76     15.946119    22.808822   22.509278    25.355850   18.383041   \n",
       "75     17.828065    25.355850   22.808822    27.259866   22.509278   \n",
       "\n",
       "    lead_u_in_2  lag_u_in_3  lead_u_in_3  lag_u_in_4  lead_u_in_4       auc  \\\n",
       "79    22.509278    0.000000    22.808822    0.000000    25.355850  0.000000   \n",
       "78    22.808822    0.000000    25.355850    0.000000    27.259866  0.310718   \n",
       "77    25.355850    0.000000    27.259866    0.000000    27.127486  0.692350   \n",
       "76    27.259866    0.083334    27.127486    0.000000    26.807732  0.771038   \n",
       "75    27.127486   18.383041    26.807732    0.083334    27.864715  0.823936   \n",
       "\n",
       "    lag_auc_1  lead_auc_1  lag_auc_2  lead_auc_2  per_change_u_in_lag_u_in_1  \\\n",
       "79   0.000000    0.310718   0.000000    0.692350                    0.999988   \n",
       "78   0.000000    0.692350   0.000000    0.771038                    0.995467   \n",
       "77   0.310718    0.771038   0.000000    0.823936                    0.183313   \n",
       "76   0.692350    0.823936   0.310718    0.892947                    0.013133   \n",
       "75   0.771038    0.892947   0.692350    0.924862                    0.100451   \n",
       "\n",
       "    per_change_u_in_lead_u_in_1  per_change_u_in_lag_u_in_2  \\\n",
       "79                  -219.592083                    0.999988   \n",
       "78                    -0.224459                    1.000000   \n",
       "77                    -0.013308                    0.996298   \n",
       "76                    -0.111669                    0.194038   \n",
       "75                    -0.075092                    0.112265   \n",
       "\n",
       "    per_change_u_in_lead_u_in_2  per_change_u_in_lag_u_in_3  \\\n",
       "79                  -269.105925                    0.999988   \n",
       "78                    -0.240753                    1.000000   \n",
       "77                    -0.126462                    1.000000   \n",
       "76                    -0.195146                    0.996346   \n",
       "75                    -0.069871                    0.274998   \n",
       "\n",
       "    per_change_u_in_lead_u_in_3  per_change_u_in_lag_u_in_4  \\\n",
       "79                  -272.700387                    0.999988   \n",
       "78                    -0.379307                    1.000000   \n",
       "77                    -0.211050                    1.000000   \n",
       "76                    -0.189342                    1.000000   \n",
       "75                    -0.057260                    0.996713   \n",
       "\n",
       "    per_change_u_in_lead_u_in_4  per_change_auc_lag_auc_1  \\\n",
       "79                  -303.264110                  0.000000   \n",
       "78                    -0.482881                  0.999997   \n",
       "77                    -0.205169                  0.551212   \n",
       "76                    -0.175323                  0.102054   \n",
       "75                    -0.098946                  0.064202   \n",
       "\n",
       "    per_change_auc_lead_auc_1  per_change_auc_lag_auc_2  \\\n",
       "79             -310718.055487                  0.000000   \n",
       "78                  -1.228222                  0.999997   \n",
       "77                  -0.113653                  0.999999   \n",
       "76                  -0.068607                  0.597013   \n",
       "75                  -0.083757                  0.159704   \n",
       "\n",
       "    per_change_auc_lead_auc_2  \n",
       "79             -692350.186987  \n",
       "78                  -1.481467  \n",
       "77                  -0.190057  \n",
       "76                  -0.158110  \n",
       "75                  -0.122491  "
      ]
     },
     "execution_count": 24,
     "metadata": {},
     "output_type": "execute_result"
    }
   ],
   "source": [
    "train_df.head()"
   ]
  },
  {
   "cell_type": "code",
   "execution_count": 101,
   "id": "engaged-management",
   "metadata": {},
   "outputs": [
    {
     "data": {
      "text/plain": [
       "(6036000, 9)"
      ]
     },
     "execution_count": 101,
     "metadata": {},
     "output_type": "execute_result"
    }
   ],
   "source": [
    "train.shape"
   ]
  },
  {
   "cell_type": "code",
   "execution_count": 26,
   "id": "inclusive-prototype",
   "metadata": {},
   "outputs": [
    {
     "name": "stderr",
     "output_type": "stream",
     "text": [
      "100%|██████████| 75450/75450 [07:20<00:00, 171.24it/s]"
     ]
    },
    {
     "name": "stdout",
     "output_type": "stream",
     "text": [
      "CPU times: user 7min 15s, sys: 9.61 s, total: 7min 25s\n",
      "Wall time: 7min 20s\n"
     ]
    },
    {
     "name": "stderr",
     "output_type": "stream",
     "text": [
      "\n"
     ]
    }
   ],
   "source": [
    "%%time\n",
    "train_grp_data = get_group_dict(train_df)"
   ]
  },
  {
   "cell_type": "code",
   "execution_count": 102,
   "id": "formed-martial",
   "metadata": {},
   "outputs": [],
   "source": [
    "data = VentilatorDataMultiLabel(\n",
    "        group_dict = train_grp_data,\n",
    "        label_df = target1.iloc[:1000],\n",
    "        categorical_columns = ['u_out'],\n",
    "        numerical_columns = ['time_step', 'u_out', 'u_in', 'pressure',\n",
    "       'mean_u_in_last_5', 'min_u_in_last_5', 'max_u_in_last_5',\n",
    "       'std_u_in_last_5', 'mean_u_in_last_10', 'min_u_in_last_10',\n",
    "       'max_u_in_last_10', 'std_u_in_last_10', 'mean_u_in_next_5',\n",
    "       'min_u_in_next_5', 'max_u_in_next_5', 'std_u_in_next_5',\n",
    "       'mean_u_in_next_10', 'min_u_in_next_10', 'max_u_in_next_10',\n",
    "       'std_u_in_next_10', 'u_in_cumsum', 'u_in_cummean', 'u_in_cummax',\n",
    "       'lag_u_in_1', 'lead_u_in_1', 'lag_u_in_2', 'lead_u_in_2', 'lag_u_in_3',\n",
    "       'lead_u_in_3', 'lag_u_in_4', 'lead_u_in_4', 'auc', 'lag_auc_1',\n",
    "       'lead_auc_1', 'lag_auc_2', 'lead_auc_2', 'per_change_u_in_lag_u_in_1',\n",
    "       'per_change_u_in_lead_u_in_1', 'per_change_u_in_lag_u_in_2',\n",
    "       'per_change_u_in_lead_u_in_2', 'per_change_u_in_lag_u_in_3',\n",
    "       'per_change_u_in_lead_u_in_3', 'per_change_u_in_lag_u_in_4',\n",
    "       'per_change_u_in_lead_u_in_4', 'per_change_auc_lag_auc_1',\n",
    "       'per_change_auc_lead_auc_1', 'per_change_auc_lag_auc_2',\n",
    "       'per_change_auc_lead_auc_2'],\n",
    "        target_column='pressure',\n",
    "\n",
    ")\n",
    "\n",
    "dl = DataLoader(\n",
    "    dataset=data,\n",
    "    shuffle=True,\n",
    "    num_workers=1,\n",
    "    batch_size=8,\n",
    "    pin_memory=True,\n",
    ")"
   ]
  },
  {
   "cell_type": "code",
   "execution_count": 107,
   "id": "restricted-plaza",
   "metadata": {},
   "outputs": [],
   "source": [
    "from train_multilabel import train_model"
   ]
  },
  {
   "cell_type": "code",
   "execution_count": 117,
   "id": "unauthorized-textbook",
   "metadata": {},
   "outputs": [
    {
     "name": "stdout",
     "output_type": "stream",
     "text": [
      "5\n",
      "10\n",
      "5\n",
      "10\n",
      "['time_step', 'u_out', 'u_in', 'pressure', 'mean_u_in_last_5', 'min_u_in_last_5', 'max_u_in_last_5', 'std_u_in_last_5', 'mean_u_in_last_10', 'min_u_in_last_10', 'max_u_in_last_10', 'std_u_in_last_10', 'mean_u_in_next_5', 'min_u_in_next_5', 'max_u_in_next_5', 'std_u_in_next_5', 'mean_u_in_next_10', 'min_u_in_next_10', 'max_u_in_next_10', 'std_u_in_next_10', 'u_in_cumsum', 'u_in_cummean', 'u_in_cummax', 'lag_u_in_1', 'lead_u_in_1', 'lag_u_in_2', 'lead_u_in_2', 'lag_u_in_3', 'lead_u_in_3', 'lag_u_in_4', 'lead_u_in_4', 'auc', 'lag_auc_1', 'lead_auc_1', 'lag_auc_2', 'lead_auc_2', 'per_change_u_in_lag_u_in_1', 'per_change_u_in_lead_u_in_1', 'per_change_u_in_lag_u_in_2', 'per_change_u_in_lead_u_in_2', 'per_change_u_in_lag_u_in_3', 'per_change_u_in_lead_u_in_3', 'per_change_u_in_lag_u_in_4', 'per_change_u_in_lead_u_in_4', 'per_change_auc_lag_auc_1', 'per_change_auc_lead_auc_1', 'per_change_auc_lag_auc_2', 'per_change_auc_lead_auc_2']\n"
     ]
    },
    {
     "name": "stderr",
     "output_type": "stream",
     "text": [
      "100%|██████████| 75450/75450 [06:12<00:00, 202.44it/s] \n"
     ]
    },
    {
     "name": "stdout",
     "output_type": "stream",
     "text": [
      "(2414400, 53) (603600, 53)\n",
      "CPU times: user 7min 13s, sys: 18.5 s, total: 7min 31s\n",
      "Wall time: 8min 4s\n"
     ]
    }
   ],
   "source": [
    "%%time\n",
    "a,b = train_model('../configs/lstm-multi-label-classification.yaml',fold_nums=[0])"
   ]
  },
  {
   "cell_type": "code",
   "execution_count": 118,
   "id": "collected-recorder",
   "metadata": {},
   "outputs": [],
   "source": [
    "for x in a:\n",
    "    pass"
   ]
  },
  {
   "cell_type": "code",
   "execution_count": 116,
   "id": "killing-edgar",
   "metadata": {},
   "outputs": [],
   "source": [
    "# train_grp_data[40231]"
   ]
  },
  {
   "cell_type": "code",
   "execution_count": 103,
   "id": "distributed-torture",
   "metadata": {},
   "outputs": [],
   "source": [
    "m = next(iter(dl))"
   ]
  },
  {
   "cell_type": "code",
   "execution_count": 106,
   "id": "desperate-january",
   "metadata": {},
   "outputs": [],
   "source": [
    "for x in dl:\n",
    "    pass"
   ]
  },
  {
   "cell_type": "code",
   "execution_count": 42,
   "id": "touched-breach",
   "metadata": {},
   "outputs": [
    {
     "data": {
      "text/plain": [
       "(torch.Size([8, 80, 48]), torch.Size([8, 80]), torch.Size([8, 1]))"
      ]
     },
     "execution_count": 42,
     "metadata": {},
     "output_type": "execute_result"
    }
   ],
   "source": [
    "m['num'].shape,m['pressure'].shape,m['rc'].shape"
   ]
  },
  {
   "cell_type": "code",
   "execution_count": 48,
   "id": "fewer-commonwealth",
   "metadata": {},
   "outputs": [
    {
     "data": {
      "text/plain": [
       "9"
      ]
     },
     "execution_count": 48,
     "metadata": {},
     "output_type": "execute_result"
    }
   ],
   "source": [
    "target1['RC'].nunique()"
   ]
  },
  {
   "cell_type": "code",
   "execution_count": 84,
   "id": "skilled-hudson",
   "metadata": {},
   "outputs": [],
   "source": [
    "config = OmegaConf.load('../configs/lstm-multi-label-classification.yaml')"
   ]
  },
  {
   "cell_type": "code",
   "execution_count": 85,
   "id": "adjustable-india",
   "metadata": {},
   "outputs": [],
   "source": [
    "config.model.kwargs['output_dim'] = 100"
   ]
  },
  {
   "cell_type": "code",
   "execution_count": 89,
   "id": "overhead-consensus",
   "metadata": {},
   "outputs": [
    {
     "name": "stdout",
     "output_type": "stream",
     "text": [
      "{'init_type': 'yakama'}\n",
      "tensor(189.0285)\n",
      "tensor(-66.8056)\n"
     ]
    }
   ],
   "source": [
    "mod = getattr(modellib,config.model['class'])(config.model['kwargs'])"
   ]
  },
  {
   "cell_type": "code",
   "execution_count": 91,
   "id": "civilian-victoria",
   "metadata": {},
   "outputs": [],
   "source": [
    "# mod"
   ]
  },
  {
   "cell_type": "code",
   "execution_count": 92,
   "id": "owned-signal",
   "metadata": {},
   "outputs": [],
   "source": [
    "preds = mod(m)"
   ]
  },
  {
   "cell_type": "code",
   "execution_count": 97,
   "id": "original-wages",
   "metadata": {},
   "outputs": [
    {
     "data": {
      "text/plain": [
       "torch.Size([8, 80, 100])"
      ]
     },
     "execution_count": 97,
     "metadata": {},
     "output_type": "execute_result"
    }
   ],
   "source": [
    "preds['pred_pressure'].shape,preds['pred_pressure'].shape"
   ]
  },
  {
   "cell_type": "code",
   "execution_count": 75,
   "id": "annual-special",
   "metadata": {},
   "outputs": [
    {
     "data": {
      "text/plain": [
       "torch.Size([8, 80, 1])"
      ]
     },
     "execution_count": 75,
     "metadata": {},
     "output_type": "execute_result"
    }
   ],
   "source": [
    "m['cat'].shape"
   ]
  },
  {
   "cell_type": "code",
   "execution_count": 60,
   "id": "sought-savings",
   "metadata": {},
   "outputs": [],
   "source": [
    "rnn = nn.LSTM(input_size = 48,hidden_size=32,bidirectional=True,batch_first=True)"
   ]
  },
  {
   "cell_type": "code",
   "execution_count": 63,
   "id": "junior-memory",
   "metadata": {},
   "outputs": [],
   "source": [
    "a,_ = rnn(m['num'])"
   ]
  },
  {
   "cell_type": "code",
   "execution_count": 66,
   "id": "lonely-twelve",
   "metadata": {},
   "outputs": [
    {
     "data": {
      "text/plain": [
       "torch.Size([8, 64, 1])"
      ]
     },
     "execution_count": 66,
     "metadata": {},
     "output_type": "execute_result"
    }
   ],
   "source": [
    "nn.AdaptiveAvgPool1d(output_size=1)(a.permute(0,2,1)).shape"
   ]
  },
  {
   "cell_type": "code",
   "execution_count": 59,
   "id": "decreased-gather",
   "metadata": {},
   "outputs": [
    {
     "data": {
      "text/plain": [
       "torch.Size([8, 80, 48])"
      ]
     },
     "execution_count": 59,
     "metadata": {},
     "output_type": "execute_result"
    }
   ],
   "source": [
    "m['num'].shape"
   ]
  },
  {
   "cell_type": "code",
   "execution_count": 100,
   "id": "lesser-chambers",
   "metadata": {},
   "outputs": [
    {
     "data": {
      "text/plain": [
       "torch.Size([8, 9])"
      ]
     },
     "execution_count": 100,
     "metadata": {},
     "output_type": "execute_result"
    }
   ],
   "source": [
    "preds['pred_RC'].shape"
   ]
  }
 ],
 "metadata": {
  "kernelspec": {
   "display_name": "Python 3",
   "language": "python",
   "name": "python3"
  },
  "language_info": {
   "codemirror_mode": {
    "name": "ipython",
    "version": 3
   },
   "file_extension": ".py",
   "mimetype": "text/x-python",
   "name": "python",
   "nbconvert_exporter": "python",
   "pygments_lexer": "ipython3",
   "version": "3.8.8"
  }
 },
 "nbformat": 4,
 "nbformat_minor": 5
}
