{
 "cells": [
  {
   "cell_type": "code",
   "execution_count": 1,
   "id": "about-function",
   "metadata": {},
   "outputs": [],
   "source": [
    "%load_ext autoreload\n",
    "%autoreload 2\n",
    "import pandas as pd\n",
    "import os\n",
    "import sys\n",
    "sys.path.append('../src')\n",
    "from torch import nn\n",
    "from omegaconf import OmegaConf\n",
    "from torch.utils.data import DataLoader\n",
    "import torch\n",
    "from sklearn.model_selection import GroupKFold\n",
    "from sklearn.preprocessing import StandardScaler\n",
    "import numpy as np\n",
    "from tqdm import tqdm\n",
    "pd.options.display.max_columns=100\n",
    "from sklearn.metrics import mean_absolute_error"
   ]
  },
  {
   "cell_type": "code",
   "execution_count": 2,
   "id": "nervous-basis",
   "metadata": {},
   "outputs": [],
   "source": [
    "import modellib\n",
    "from utils import fc\n",
    "import datalib\n",
    "from torch.utils.data import Dataset\n",
    "from train_meta_regression import get_group_dict,map_dataset\n",
    "import joblib\n",
    "from sklearn.preprocessing import RobustScaler\n",
    "from sklearn.model_selection import GroupKFold\n",
    "from litmodellib import Model\n",
    "import pytorch_lightning as pl\n",
    "import copy\n",
    "import glob\n",
    "import re"
   ]
  },
  {
   "cell_type": "code",
   "execution_count": 3,
   "id": "conceptual-british",
   "metadata": {},
   "outputs": [],
   "source": [
    "class VentilatorDataClassification(Dataset):\n",
    "    def __init__(\n",
    "        self, group_dict, breath_df,categorical_columns, numerical_columns, target_column=None\n",
    "    ):\n",
    "        self.group_dict = group_dict\n",
    "        self.categorical_columns = categorical_columns\n",
    "        self.numerical_columns = numerical_columns\n",
    "        self.target_column = target_column\n",
    "        self.breath_df = breath_df\n",
    "\n",
    "    def __len__(self):\n",
    "        return len(self.breath_df)\n",
    "\n",
    "    def __getitem__(self, idx):\n",
    "        breath_id = self.breath_df.iloc[idx]\n",
    "        data = self.group_dict[breath_id]\n",
    "        \n",
    "        cat_data = torch.tensor(\n",
    "            np.array([data[k] for k in self.categorical_columns]).T, dtype=torch.long\n",
    "        )\n",
    "        num_data = torch.tensor(\n",
    "            np.array([data[k] for k in self.numerical_columns]).T, dtype=torch.float32\n",
    "        )\n",
    "        u_out = torch.tensor(np.array(data[\"u_out\"]), dtype=torch.long)\n",
    "\n",
    "        if self.target_column is not None:\n",
    "            tar_data = torch.tensor(\n",
    "                np.array(data[self.target_column]), dtype=torch.long\n",
    "            )\n",
    "            return {\n",
    "                \"num\": num_data,\n",
    "                \"cat\": cat_data,\n",
    "                \"target\": tar_data,\n",
    "                \"u_out\": u_out,\n",
    "            }\n",
    "        else:\n",
    "            return {\"num\": num_data, \"cat\": cat_data, \"u_out\": u_out}"
   ]
  },
  {
   "cell_type": "code",
   "execution_count": 4,
   "id": "single-talent",
   "metadata": {},
   "outputs": [],
   "source": [
    "DATA_DIR = '/mnt/disks/extra_data/kaggle/ventilator_prediction/'\n",
    "R_MAP = {5: 0, 50: 1, 20: 2}\n",
    "C_MAP = {20: 0, 50: 1, 10: 2}"
   ]
  },
  {
   "cell_type": "code",
   "execution_count": 5,
   "id": "collaborative-competition",
   "metadata": {},
   "outputs": [],
   "source": [
    "import os\n",
    "os.environ['CUDA_LAUNCH_BLOCKING']='1'"
   ]
  },
  {
   "cell_type": "code",
   "execution_count": 6,
   "id": "complete-skill",
   "metadata": {},
   "outputs": [],
   "source": [
    "# train = pd.read_csv(os.path.join(DATA_DIR,'train.csv'))\n",
    "# test = pd.read_csv(os.path.join(DATA_DIR,'test.csv'))\n",
    "# train.breath_id = train.breath_id.map(dict(zip(train.breath_id.unique().tolist(),range(train.breath_id.nunique()))))\n",
    "# test.breath_id = train.breath_id.map(dict(zip(train.breath_id.unique().tolist(),range(train.breath_id.nunique()))))"
   ]
  },
  {
   "cell_type": "code",
   "execution_count": 7,
   "id": "parallel-cassette",
   "metadata": {},
   "outputs": [],
   "source": [
    "# train = pd.read_csv('../data/train_oof.csv')"
   ]
  },
  {
   "cell_type": "code",
   "execution_count": 8,
   "id": "compatible-elevation",
   "metadata": {},
   "outputs": [],
   "source": [
    "# mean_absolute_error(train[train.u_out==0].pressure,train[train.u_out==0].preds)"
   ]
  },
  {
   "cell_type": "code",
   "execution_count": 8,
   "id": "innocent-extension",
   "metadata": {},
   "outputs": [],
   "source": [
    "def preprocess(config):\n",
    "    train = pd.read_csv('../data/train_oof.csv')\n",
    "    test = pd.read_csv('../data/test_v61.csv')    \n",
    "    train[\"R_1\"] = train[\"R\"].values\n",
    "    train[\"C_1\"] = train[\"C\"].values\n",
    "    test[\"R_1\"] = test[\"R\"].values\n",
    "    test[\"C_1\"] = test[\"C\"].values\n",
    "\n",
    "    train = train.groupby(\"breath_id\").head(config.seq_len)\n",
    "    test = test.groupby(\"breath_id\").head(config.seq_len)    \n",
    "    config.model.kwargs[\"output_dim\"] = 1\n",
    "    \n",
    "    if config.normalization.is_norm:\n",
    "        scl = StandardScaler()\n",
    "        print(config.dataset.train.kwargs.numerical_columns)\n",
    "        for col in config.dataset.train.kwargs.numerical_columns:\n",
    "            train[col] = scl.fit_transform(train[[col]])\n",
    "            test[col] = scl.transform(test[[col]])        \n",
    "    return train,test\n",
    "\n",
    "def create_path(path):\n",
    "    if not os.path.exists(path):\n",
    "        os.mkdir(path)    \n",
    "        \n",
    "def predict(model,dl,data,device,is_test=False):\n",
    "    df = copy.deepcopy(data)\n",
    "    trainer = pl.Trainer(gpus=[device])\n",
    "    trainer.test(model = model,test_dataloaders=dl)    \n",
    "    preds = [x['preds'] for x in torch.load('prediction.pt')]\n",
    "    df['preds'] = preds\n",
    "    return df        \n",
    "\n",
    "def get_model_path(model_dir,metric_name):\n",
    "    regex = re.compile('{}=(\\d+\\.?\\d+)'.format(metric_name))    \n",
    "    models = glob.glob(model_dir)\n",
    "    score = [float(regex.findall(x)[0]) for x in models]\n",
    "    idx = np.argmax(score)\n",
    "    return models[idx]"
   ]
  },
  {
   "cell_type": "code",
   "execution_count": 9,
   "id": "three-cornell",
   "metadata": {},
   "outputs": [],
   "source": [
    "config = OmegaConf.load('../experiments/meta_LSTM/config.yaml')"
   ]
  },
  {
   "cell_type": "code",
   "execution_count": 10,
   "id": "genetic-course",
   "metadata": {},
   "outputs": [],
   "source": [
    "# config.topk=1\n",
    "# config.topk"
   ]
  },
  {
   "cell_type": "code",
   "execution_count": 11,
   "id": "aggregate-arcade",
   "metadata": {},
   "outputs": [
    {
     "name": "stdout",
     "output_type": "stream",
     "text": [
      "['R_1', 'C_1', 'time_step', 'u_in', 'preds']\n",
      "CPU times: user 7.44 s, sys: 1.47 s, total: 8.91 s\n",
      "Wall time: 8.91 s\n"
     ]
    }
   ],
   "source": [
    "%%time\n",
    "train,test = preprocess(config)"
   ]
  },
  {
   "cell_type": "code",
   "execution_count": 12,
   "id": "normal-wisconsin",
   "metadata": {},
   "outputs": [
    {
     "data": {
      "text/html": [
       "<div>\n",
       "<style scoped>\n",
       "    .dataframe tbody tr th:only-of-type {\n",
       "        vertical-align: middle;\n",
       "    }\n",
       "\n",
       "    .dataframe tbody tr th {\n",
       "        vertical-align: top;\n",
       "    }\n",
       "\n",
       "    .dataframe thead th {\n",
       "        text-align: right;\n",
       "    }\n",
       "</style>\n",
       "<table border=\"1\" class=\"dataframe\">\n",
       "  <thead>\n",
       "    <tr style=\"text-align: right;\">\n",
       "      <th></th>\n",
       "      <th>id</th>\n",
       "      <th>breath_id</th>\n",
       "      <th>R</th>\n",
       "      <th>C</th>\n",
       "      <th>time_step</th>\n",
       "      <th>u_in</th>\n",
       "      <th>u_out</th>\n",
       "      <th>pressure</th>\n",
       "      <th>preds</th>\n",
       "      <th>R_1</th>\n",
       "      <th>C_1</th>\n",
       "    </tr>\n",
       "  </thead>\n",
       "  <tbody>\n",
       "    <tr>\n",
       "      <th>0</th>\n",
       "      <td>1</td>\n",
       "      <td>1</td>\n",
       "      <td>20</td>\n",
       "      <td>50</td>\n",
       "      <td>-1.685675</td>\n",
       "      <td>-0.614677</td>\n",
       "      <td>0</td>\n",
       "      <td>5.837492</td>\n",
       "      <td>-1.113150</td>\n",
       "      <td>-0.359072</td>\n",
       "      <td>1.394522</td>\n",
       "    </tr>\n",
       "    <tr>\n",
       "      <th>1</th>\n",
       "      <td>2</td>\n",
       "      <td>1</td>\n",
       "      <td>20</td>\n",
       "      <td>50</td>\n",
       "      <td>-1.597761</td>\n",
       "      <td>0.397359</td>\n",
       "      <td>0</td>\n",
       "      <td>5.907794</td>\n",
       "      <td>-1.113150</td>\n",
       "      <td>-0.359072</td>\n",
       "      <td>1.394522</td>\n",
       "    </tr>\n",
       "    <tr>\n",
       "      <th>2</th>\n",
       "      <td>3</td>\n",
       "      <td>1</td>\n",
       "      <td>20</td>\n",
       "      <td>50</td>\n",
       "      <td>-1.509299</td>\n",
       "      <td>0.625553</td>\n",
       "      <td>0</td>\n",
       "      <td>7.876254</td>\n",
       "      <td>-0.883184</td>\n",
       "      <td>-0.359072</td>\n",
       "      <td>1.394522</td>\n",
       "    </tr>\n",
       "    <tr>\n",
       "      <th>3</th>\n",
       "      <td>4</td>\n",
       "      <td>1</td>\n",
       "      <td>20</td>\n",
       "      <td>50</td>\n",
       "      <td>-1.420404</td>\n",
       "      <td>0.642119</td>\n",
       "      <td>0</td>\n",
       "      <td>11.742872</td>\n",
       "      <td>-0.461581</td>\n",
       "      <td>-0.359072</td>\n",
       "      <td>1.394522</td>\n",
       "    </tr>\n",
       "    <tr>\n",
       "      <th>4</th>\n",
       "      <td>5</td>\n",
       "      <td>1</td>\n",
       "      <td>20</td>\n",
       "      <td>50</td>\n",
       "      <td>-1.331024</td>\n",
       "      <td>0.782979</td>\n",
       "      <td>0</td>\n",
       "      <td>12.234987</td>\n",
       "      <td>-0.407922</td>\n",
       "      <td>-0.359072</td>\n",
       "      <td>1.394522</td>\n",
       "    </tr>\n",
       "  </tbody>\n",
       "</table>\n",
       "</div>"
      ],
      "text/plain": [
       "   id  breath_id   R   C  time_step      u_in  u_out   pressure     preds  \\\n",
       "0   1          1  20  50  -1.685675 -0.614677      0   5.837492 -1.113150   \n",
       "1   2          1  20  50  -1.597761  0.397359      0   5.907794 -1.113150   \n",
       "2   3          1  20  50  -1.509299  0.625553      0   7.876254 -0.883184   \n",
       "3   4          1  20  50  -1.420404  0.642119      0  11.742872 -0.461581   \n",
       "4   5          1  20  50  -1.331024  0.782979      0  12.234987 -0.407922   \n",
       "\n",
       "        R_1       C_1  \n",
       "0 -0.359072  1.394522  \n",
       "1 -0.359072  1.394522  \n",
       "2 -0.359072  1.394522  \n",
       "3 -0.359072  1.394522  \n",
       "4 -0.359072  1.394522  "
      ]
     },
     "execution_count": 12,
     "metadata": {},
     "output_type": "execute_result"
    }
   ],
   "source": [
    "train.head()"
   ]
  },
  {
   "cell_type": "code",
   "execution_count": 13,
   "id": "concrete-square",
   "metadata": {},
   "outputs": [
    {
     "data": {
      "text/html": [
       "<div>\n",
       "<style scoped>\n",
       "    .dataframe tbody tr th:only-of-type {\n",
       "        vertical-align: middle;\n",
       "    }\n",
       "\n",
       "    .dataframe tbody tr th {\n",
       "        vertical-align: top;\n",
       "    }\n",
       "\n",
       "    .dataframe thead th {\n",
       "        text-align: right;\n",
       "    }\n",
       "</style>\n",
       "<table border=\"1\" class=\"dataframe\">\n",
       "  <thead>\n",
       "    <tr style=\"text-align: right;\">\n",
       "      <th></th>\n",
       "      <th>id</th>\n",
       "      <th>breath_id</th>\n",
       "      <th>R</th>\n",
       "      <th>C</th>\n",
       "      <th>time_step</th>\n",
       "      <th>u_in</th>\n",
       "      <th>u_out</th>\n",
       "      <th>preds</th>\n",
       "      <th>R_1</th>\n",
       "      <th>C_1</th>\n",
       "    </tr>\n",
       "  </thead>\n",
       "  <tbody>\n",
       "    <tr>\n",
       "      <th>0</th>\n",
       "      <td>1</td>\n",
       "      <td>0</td>\n",
       "      <td>5</td>\n",
       "      <td>20</td>\n",
       "      <td>-1.685675</td>\n",
       "      <td>-0.619286</td>\n",
       "      <td>0</td>\n",
       "      <td>-1.067157</td>\n",
       "      <td>-1.124554</td>\n",
       "      <td>-0.354513</td>\n",
       "    </tr>\n",
       "    <tr>\n",
       "      <th>1</th>\n",
       "      <td>2</td>\n",
       "      <td>0</td>\n",
       "      <td>5</td>\n",
       "      <td>20</td>\n",
       "      <td>-1.602329</td>\n",
       "      <td>-0.203678</td>\n",
       "      <td>0</td>\n",
       "      <td>-1.105485</td>\n",
       "      <td>-1.124554</td>\n",
       "      <td>-0.354513</td>\n",
       "    </tr>\n",
       "    <tr>\n",
       "      <th>2</th>\n",
       "      <td>3</td>\n",
       "      <td>0</td>\n",
       "      <td>5</td>\n",
       "      <td>20</td>\n",
       "      <td>-1.518931</td>\n",
       "      <td>0.191001</td>\n",
       "      <td>0</td>\n",
       "      <td>-0.967505</td>\n",
       "      <td>-1.124554</td>\n",
       "      <td>-0.354513</td>\n",
       "    </tr>\n",
       "    <tr>\n",
       "      <th>3</th>\n",
       "      <td>4</td>\n",
       "      <td>0</td>\n",
       "      <td>5</td>\n",
       "      <td>20</td>\n",
       "      <td>-1.435533</td>\n",
       "      <td>0.554839</td>\n",
       "      <td>0</td>\n",
       "      <td>-0.913847</td>\n",
       "      <td>-1.124554</td>\n",
       "      <td>-0.354513</td>\n",
       "    </tr>\n",
       "    <tr>\n",
       "      <th>4</th>\n",
       "      <td>5</td>\n",
       "      <td>0</td>\n",
       "      <td>5</td>\n",
       "      <td>20</td>\n",
       "      <td>-1.352216</td>\n",
       "      <td>0.836352</td>\n",
       "      <td>0</td>\n",
       "      <td>-0.752871</td>\n",
       "      <td>-1.124554</td>\n",
       "      <td>-0.354513</td>\n",
       "    </tr>\n",
       "  </tbody>\n",
       "</table>\n",
       "</div>"
      ],
      "text/plain": [
       "   id  breath_id  R   C  time_step      u_in  u_out     preds       R_1  \\\n",
       "0   1          0  5  20  -1.685675 -0.619286      0 -1.067157 -1.124554   \n",
       "1   2          0  5  20  -1.602329 -0.203678      0 -1.105485 -1.124554   \n",
       "2   3          0  5  20  -1.518931  0.191001      0 -0.967505 -1.124554   \n",
       "3   4          0  5  20  -1.435533  0.554839      0 -0.913847 -1.124554   \n",
       "4   5          0  5  20  -1.352216  0.836352      0 -0.752871 -1.124554   \n",
       "\n",
       "        C_1  \n",
       "0 -0.354513  \n",
       "1 -0.354513  \n",
       "2 -0.354513  \n",
       "3 -0.354513  \n",
       "4 -0.354513  "
      ]
     },
     "execution_count": 13,
     "metadata": {},
     "output_type": "execute_result"
    }
   ],
   "source": [
    "test.head()"
   ]
  },
  {
   "cell_type": "code",
   "execution_count": 14,
   "id": "nominated-stand",
   "metadata": {},
   "outputs": [],
   "source": [
    "train = map_dataset(train)\n",
    "test = map_dataset(test)"
   ]
  },
  {
   "cell_type": "code",
   "execution_count": 15,
   "id": "chemical-suspect",
   "metadata": {},
   "outputs": [
    {
     "data": {
      "text/html": [
       "<div>\n",
       "<style scoped>\n",
       "    .dataframe tbody tr th:only-of-type {\n",
       "        vertical-align: middle;\n",
       "    }\n",
       "\n",
       "    .dataframe tbody tr th {\n",
       "        vertical-align: top;\n",
       "    }\n",
       "\n",
       "    .dataframe thead th {\n",
       "        text-align: right;\n",
       "    }\n",
       "</style>\n",
       "<table border=\"1\" class=\"dataframe\">\n",
       "  <thead>\n",
       "    <tr style=\"text-align: right;\">\n",
       "      <th></th>\n",
       "      <th>id</th>\n",
       "      <th>breath_id</th>\n",
       "      <th>R</th>\n",
       "      <th>C</th>\n",
       "      <th>time_step</th>\n",
       "      <th>u_in</th>\n",
       "      <th>u_out</th>\n",
       "      <th>pressure</th>\n",
       "      <th>preds</th>\n",
       "      <th>R_1</th>\n",
       "      <th>C_1</th>\n",
       "    </tr>\n",
       "  </thead>\n",
       "  <tbody>\n",
       "    <tr>\n",
       "      <th>0</th>\n",
       "      <td>1</td>\n",
       "      <td>0</td>\n",
       "      <td>2</td>\n",
       "      <td>1</td>\n",
       "      <td>-1.685675</td>\n",
       "      <td>-0.614677</td>\n",
       "      <td>0</td>\n",
       "      <td>5.837492</td>\n",
       "      <td>-1.113150</td>\n",
       "      <td>-0.359072</td>\n",
       "      <td>1.394522</td>\n",
       "    </tr>\n",
       "    <tr>\n",
       "      <th>1</th>\n",
       "      <td>2</td>\n",
       "      <td>0</td>\n",
       "      <td>2</td>\n",
       "      <td>1</td>\n",
       "      <td>-1.597761</td>\n",
       "      <td>0.397359</td>\n",
       "      <td>0</td>\n",
       "      <td>5.907794</td>\n",
       "      <td>-1.113150</td>\n",
       "      <td>-0.359072</td>\n",
       "      <td>1.394522</td>\n",
       "    </tr>\n",
       "    <tr>\n",
       "      <th>2</th>\n",
       "      <td>3</td>\n",
       "      <td>0</td>\n",
       "      <td>2</td>\n",
       "      <td>1</td>\n",
       "      <td>-1.509299</td>\n",
       "      <td>0.625553</td>\n",
       "      <td>0</td>\n",
       "      <td>7.876254</td>\n",
       "      <td>-0.883184</td>\n",
       "      <td>-0.359072</td>\n",
       "      <td>1.394522</td>\n",
       "    </tr>\n",
       "    <tr>\n",
       "      <th>3</th>\n",
       "      <td>4</td>\n",
       "      <td>0</td>\n",
       "      <td>2</td>\n",
       "      <td>1</td>\n",
       "      <td>-1.420404</td>\n",
       "      <td>0.642119</td>\n",
       "      <td>0</td>\n",
       "      <td>11.742872</td>\n",
       "      <td>-0.461581</td>\n",
       "      <td>-0.359072</td>\n",
       "      <td>1.394522</td>\n",
       "    </tr>\n",
       "    <tr>\n",
       "      <th>4</th>\n",
       "      <td>5</td>\n",
       "      <td>0</td>\n",
       "      <td>2</td>\n",
       "      <td>1</td>\n",
       "      <td>-1.331024</td>\n",
       "      <td>0.782979</td>\n",
       "      <td>0</td>\n",
       "      <td>12.234987</td>\n",
       "      <td>-0.407922</td>\n",
       "      <td>-0.359072</td>\n",
       "      <td>1.394522</td>\n",
       "    </tr>\n",
       "  </tbody>\n",
       "</table>\n",
       "</div>"
      ],
      "text/plain": [
       "   id  breath_id  R  C  time_step      u_in  u_out   pressure     preds  \\\n",
       "0   1          0  2  1  -1.685675 -0.614677      0   5.837492 -1.113150   \n",
       "1   2          0  2  1  -1.597761  0.397359      0   5.907794 -1.113150   \n",
       "2   3          0  2  1  -1.509299  0.625553      0   7.876254 -0.883184   \n",
       "3   4          0  2  1  -1.420404  0.642119      0  11.742872 -0.461581   \n",
       "4   5          0  2  1  -1.331024  0.782979      0  12.234987 -0.407922   \n",
       "\n",
       "        R_1       C_1  \n",
       "0 -0.359072  1.394522  \n",
       "1 -0.359072  1.394522  \n",
       "2 -0.359072  1.394522  \n",
       "3 -0.359072  1.394522  \n",
       "4 -0.359072  1.394522  "
      ]
     },
     "execution_count": 15,
     "metadata": {},
     "output_type": "execute_result"
    }
   ],
   "source": [
    "train.head()"
   ]
  },
  {
   "cell_type": "code",
   "execution_count": 16,
   "id": "impressed-curve",
   "metadata": {},
   "outputs": [
    {
     "data": {
      "text/html": [
       "<div>\n",
       "<style scoped>\n",
       "    .dataframe tbody tr th:only-of-type {\n",
       "        vertical-align: middle;\n",
       "    }\n",
       "\n",
       "    .dataframe tbody tr th {\n",
       "        vertical-align: top;\n",
       "    }\n",
       "\n",
       "    .dataframe thead th {\n",
       "        text-align: right;\n",
       "    }\n",
       "</style>\n",
       "<table border=\"1\" class=\"dataframe\">\n",
       "  <thead>\n",
       "    <tr style=\"text-align: right;\">\n",
       "      <th></th>\n",
       "      <th>id</th>\n",
       "      <th>breath_id</th>\n",
       "      <th>R</th>\n",
       "      <th>C</th>\n",
       "      <th>time_step</th>\n",
       "      <th>u_in</th>\n",
       "      <th>u_out</th>\n",
       "      <th>preds</th>\n",
       "      <th>R_1</th>\n",
       "      <th>C_1</th>\n",
       "    </tr>\n",
       "  </thead>\n",
       "  <tbody>\n",
       "    <tr>\n",
       "      <th>0</th>\n",
       "      <td>1</td>\n",
       "      <td>0</td>\n",
       "      <td>0</td>\n",
       "      <td>0</td>\n",
       "      <td>-1.685675</td>\n",
       "      <td>-0.619286</td>\n",
       "      <td>0</td>\n",
       "      <td>-1.067157</td>\n",
       "      <td>-1.124554</td>\n",
       "      <td>-0.354513</td>\n",
       "    </tr>\n",
       "    <tr>\n",
       "      <th>1</th>\n",
       "      <td>2</td>\n",
       "      <td>0</td>\n",
       "      <td>0</td>\n",
       "      <td>0</td>\n",
       "      <td>-1.602329</td>\n",
       "      <td>-0.203678</td>\n",
       "      <td>0</td>\n",
       "      <td>-1.105485</td>\n",
       "      <td>-1.124554</td>\n",
       "      <td>-0.354513</td>\n",
       "    </tr>\n",
       "    <tr>\n",
       "      <th>2</th>\n",
       "      <td>3</td>\n",
       "      <td>0</td>\n",
       "      <td>0</td>\n",
       "      <td>0</td>\n",
       "      <td>-1.518931</td>\n",
       "      <td>0.191001</td>\n",
       "      <td>0</td>\n",
       "      <td>-0.967505</td>\n",
       "      <td>-1.124554</td>\n",
       "      <td>-0.354513</td>\n",
       "    </tr>\n",
       "    <tr>\n",
       "      <th>3</th>\n",
       "      <td>4</td>\n",
       "      <td>0</td>\n",
       "      <td>0</td>\n",
       "      <td>0</td>\n",
       "      <td>-1.435533</td>\n",
       "      <td>0.554839</td>\n",
       "      <td>0</td>\n",
       "      <td>-0.913847</td>\n",
       "      <td>-1.124554</td>\n",
       "      <td>-0.354513</td>\n",
       "    </tr>\n",
       "    <tr>\n",
       "      <th>4</th>\n",
       "      <td>5</td>\n",
       "      <td>0</td>\n",
       "      <td>0</td>\n",
       "      <td>0</td>\n",
       "      <td>-1.352216</td>\n",
       "      <td>0.836352</td>\n",
       "      <td>0</td>\n",
       "      <td>-0.752871</td>\n",
       "      <td>-1.124554</td>\n",
       "      <td>-0.354513</td>\n",
       "    </tr>\n",
       "  </tbody>\n",
       "</table>\n",
       "</div>"
      ],
      "text/plain": [
       "   id  breath_id  R  C  time_step      u_in  u_out     preds       R_1  \\\n",
       "0   1          0  0  0  -1.685675 -0.619286      0 -1.067157 -1.124554   \n",
       "1   2          0  0  0  -1.602329 -0.203678      0 -1.105485 -1.124554   \n",
       "2   3          0  0  0  -1.518931  0.191001      0 -0.967505 -1.124554   \n",
       "3   4          0  0  0  -1.435533  0.554839      0 -0.913847 -1.124554   \n",
       "4   5          0  0  0  -1.352216  0.836352      0 -0.752871 -1.124554   \n",
       "\n",
       "        C_1  \n",
       "0 -0.354513  \n",
       "1 -0.354513  \n",
       "2 -0.354513  \n",
       "3 -0.354513  \n",
       "4 -0.354513  "
      ]
     },
     "execution_count": 16,
     "metadata": {},
     "output_type": "execute_result"
    }
   ],
   "source": [
    "test.head()"
   ]
  },
  {
   "cell_type": "code",
   "execution_count": 17,
   "id": "competent-recycling",
   "metadata": {},
   "outputs": [
    {
     "name": "stderr",
     "output_type": "stream",
     "text": [
      "100%|██████████| 75450/75450 [01:18<00:00, 961.26it/s] "
     ]
    },
    {
     "name": "stdout",
     "output_type": "stream",
     "text": [
      "CPU times: user 1min 17s, sys: 2.63 s, total: 1min 20s\n",
      "Wall time: 1min 18s\n"
     ]
    },
    {
     "name": "stderr",
     "output_type": "stream",
     "text": [
      "\n"
     ]
    }
   ],
   "source": [
    "%%time\n",
    "train_grp_dict = get_group_dict(train)"
   ]
  },
  {
   "cell_type": "code",
   "execution_count": 18,
   "id": "reliable-playback",
   "metadata": {},
   "outputs": [
    {
     "name": "stderr",
     "output_type": "stream",
     "text": [
      "100%|██████████| 50300/50300 [00:47<00:00, 1057.95it/s]"
     ]
    },
    {
     "name": "stdout",
     "output_type": "stream",
     "text": [
      "CPU times: user 47.3 s, sys: 1.49 s, total: 48.8 s\n",
      "Wall time: 47.6 s\n"
     ]
    },
    {
     "name": "stderr",
     "output_type": "stream",
     "text": [
      "\n"
     ]
    }
   ],
   "source": [
    "%%time\n",
    "test_grp_dict = get_group_dict(test)"
   ]
  },
  {
   "cell_type": "code",
   "execution_count": 19,
   "id": "hydraulic-thesis",
   "metadata": {},
   "outputs": [
    {
     "data": {
      "text/plain": [
       "(75450, 50300)"
      ]
     },
     "execution_count": 19,
     "metadata": {},
     "output_type": "execute_result"
    }
   ],
   "source": [
    "len(train_grp_dict),len(test_grp_dict)"
   ]
  },
  {
   "cell_type": "code",
   "execution_count": 20,
   "id": "several-exchange",
   "metadata": {},
   "outputs": [],
   "source": [
    "folds = GroupKFold(n_splits=15)\n",
    "folds = list(folds.split(train, groups=train[\"breath_id\"]))"
   ]
  },
  {
   "cell_type": "code",
   "execution_count": 21,
   "id": "friendly-rebate",
   "metadata": {},
   "outputs": [
    {
     "data": {
      "text/plain": [
       "15"
      ]
     },
     "execution_count": 21,
     "metadata": {},
     "output_type": "execute_result"
    }
   ],
   "source": [
    "len(folds)"
   ]
  },
  {
   "cell_type": "code",
   "execution_count": 22,
   "id": "protected-percentage",
   "metadata": {},
   "outputs": [
    {
     "data": {
      "text/plain": [
       "['../experiments/meta_LSTM/fold_0/model-epoch=99-val_MAE=0.1087-val_loss=0.1093.ckpt']"
      ]
     },
     "execution_count": 22,
     "metadata": {},
     "output_type": "execute_result"
    }
   ],
   "source": [
    "models = [get_model_path('../experiments/{}/fold_{}/*.ckpt'.format(config.experiment_name,x),'val_MAE') for x in range(1)]\n",
    "models"
   ]
  },
  {
   "cell_type": "code",
   "execution_count": null,
   "id": "abandoned-sector",
   "metadata": {},
   "outputs": [],
   "source": []
  },
  {
   "cell_type": "code",
   "execution_count": 23,
   "id": "baking-flight",
   "metadata": {},
   "outputs": [],
   "source": [
    "oof_preds=[]\n",
    "test_preds=[]"
   ]
  },
  {
   "cell_type": "code",
   "execution_count": 24,
   "id": "forty-burst",
   "metadata": {},
   "outputs": [],
   "source": [
    "test_df = VentilatorDataClassification(group_dict = test_grp_dict, breath_df = test[['breath_id']].drop_duplicates()['breath_id'],\n",
    "                                      categorical_columns = config.dataset.train.kwargs.categorical_columns, \n",
    "                                      numerical_columns = config.dataset.train.kwargs.numerical_columns)\n",
    "test_dl = DataLoader(dataset = test_df,batch_size = 128,num_workers = 8,pin_memory=True,shuffle = False)"
   ]
  },
  {
   "cell_type": "code",
   "execution_count": 25,
   "id": "colored-casting",
   "metadata": {},
   "outputs": [
    {
     "data": {
      "text/plain": [
       "393"
      ]
     },
     "execution_count": 25,
     "metadata": {},
     "output_type": "execute_result"
    }
   ],
   "source": [
    "len(test_dl)"
   ]
  },
  {
   "cell_type": "code",
   "execution_count": null,
   "id": "opened-violence",
   "metadata": {},
   "outputs": [],
   "source": []
  },
  {
   "cell_type": "code",
   "execution_count": 26,
   "id": "compliant-operation",
   "metadata": {
    "tags": []
   },
   "outputs": [
    {
     "name": "stderr",
     "output_type": "stream",
     "text": [
      "GPU available: True, used: True\n",
      "TPU available: False, using: 0 TPU cores\n",
      "IPU available: False, using: 0 IPUs\n",
      "/home/sahil_okcredit_in/miniconda3/envs/torch-py3.8/lib/python3.8/site-packages/pytorch_lightning/trainer/trainer.py:679: LightningDeprecationWarning: `trainer.test(test_dataloaders)` is deprecated in v1.4 and will be removed in v1.6. Use `trainer.test(dataloaders)` instead.\n",
      "  rank_zero_deprecation(\n",
      "LOCAL_RANK: 0 - CUDA_VISIBLE_DEVICES: [0,1,2,3]\n"
     ]
    },
    {
     "name": "stdout",
     "output_type": "stream",
     "text": [
      "{'init_type': 'xavier'}\n",
      "tensor(-60.9272)\n",
      "tensor(97.7812)\n"
     ]
    },
    {
     "data": {
      "application/vnd.jupyter.widget-view+json": {
       "model_id": "367d29ca9dda4896885edf9c254785d0",
       "version_major": 2,
       "version_minor": 0
      },
      "text/plain": [
       "Testing: 0it [00:00, ?it/s]"
      ]
     },
     "metadata": {},
     "output_type": "display_data"
    },
    {
     "name": "stderr",
     "output_type": "stream",
     "text": [
      "/home/sahil_okcredit_in/miniconda3/envs/torch-py3.8/lib/python3.8/site-packages/pytorch_lightning/core/lightning.py:574: LightningDeprecationWarning: LightningModule method `write_prediction` was deprecated in v1.3 and will be removed in v1.5.\n",
      "  rank_zero_deprecation(\n"
     ]
    },
    {
     "name": "stdout",
     "output_type": "stream",
     "text": [
      "--------------------------------------------------------------------------------\n",
      "DATALOADER:0 TEST RESULTS\n",
      "{}\n",
      "--------------------------------------------------------------------------------\n"
     ]
    },
    {
     "name": "stderr",
     "output_type": "stream",
     "text": [
      "GPU available: True, used: True\n",
      "TPU available: False, using: 0 TPU cores\n",
      "IPU available: False, using: 0 IPUs\n",
      "LOCAL_RANK: 0 - CUDA_VISIBLE_DEVICES: [0,1,2,3]\n"
     ]
    },
    {
     "data": {
      "application/vnd.jupyter.widget-view+json": {
       "model_id": "9e38f41e67ba482eaedd2d99b5e63562",
       "version_major": 2,
       "version_minor": 0
      },
      "text/plain": [
       "Testing: 0it [00:00, ?it/s]"
      ]
     },
     "metadata": {},
     "output_type": "display_data"
    },
    {
     "name": "stdout",
     "output_type": "stream",
     "text": [
      "--------------------------------------------------------------------------------\n",
      "DATALOADER:0 TEST RESULTS\n",
      "{}\n",
      "--------------------------------------------------------------------------------\n",
      "MAE:   0.10871265711626527\n"
     ]
    }
   ],
   "source": [
    "for i in [0]:\n",
    "# for i in [0]:\n",
    "    val = train.iloc[folds[i][1]]\n",
    "    val_df = VentilatorDataClassification(group_dict = train_grp_dict, breath_df = val[['breath_id']].drop_duplicates()['breath_id'],\n",
    "                                          categorical_columns = config.dataset.train.kwargs.categorical_columns, \n",
    "                                          numerical_columns = config.dataset.train.kwargs.numerical_columns, target_column=config.dataset.train.kwargs.target_column)\n",
    "    val_dl = DataLoader(dataset = val_df,batch_size = 256,num_workers = 8,pin_memory=True,shuffle = False)\n",
    "    \n",
    "    wt_dict = torch.load(models[i])\n",
    "    lit_model = Model(config,topk = 3)\n",
    "    lit_model.load_state_dict(state_dict=wt_dict['state_dict'])    \n",
    "    preds = predict(lit_model,val_dl,val[['pressure','id','breath_id','R','C','u_out']],1)\n",
    "    oot_preds = predict(lit_model,test_dl,test[['id','breath_id','R','C','u_out']],0,is_test=True)\n",
    "    print('MAE:  ',mean_absolute_error(preds[preds.u_out==0]['pressure'],preds[preds.u_out==0]['preds']))\n",
    "    oof_preds.append(preds)    \n",
    "    test_preds.append(oot_preds)        "
   ]
  },
  {
   "cell_type": "code",
   "execution_count": 27,
   "id": "identified-luxembourg",
   "metadata": {
    "tags": []
   },
   "outputs": [],
   "source": [
    "oof_preds = pd.concat(oof_preds,axis=0)"
   ]
  },
  {
   "cell_type": "code",
   "execution_count": 28,
   "id": "gentle-tribune",
   "metadata": {},
   "outputs": [
    {
     "data": {
      "text/plain": [
       "0.10871265711626527"
      ]
     },
     "execution_count": 28,
     "metadata": {},
     "output_type": "execute_result"
    }
   ],
   "source": [
    "mean_absolute_error(oof_preds[oof_preds.u_out==0]['pressure'],oof_preds[oof_preds.u_out==0]['preds'])"
   ]
  },
  {
   "cell_type": "code",
   "execution_count": 29,
   "id": "answering-democracy",
   "metadata": {},
   "outputs": [
    {
     "data": {
      "text/html": [
       "<div>\n",
       "<style scoped>\n",
       "    .dataframe tbody tr th:only-of-type {\n",
       "        vertical-align: middle;\n",
       "    }\n",
       "\n",
       "    .dataframe tbody tr th {\n",
       "        vertical-align: top;\n",
       "    }\n",
       "\n",
       "    .dataframe thead th {\n",
       "        text-align: right;\n",
       "    }\n",
       "</style>\n",
       "<table border=\"1\" class=\"dataframe\">\n",
       "  <thead>\n",
       "    <tr style=\"text-align: right;\">\n",
       "      <th></th>\n",
       "      <th>pressure</th>\n",
       "      <th>id</th>\n",
       "      <th>breath_id</th>\n",
       "      <th>R</th>\n",
       "      <th>C</th>\n",
       "      <th>u_out</th>\n",
       "      <th>preds</th>\n",
       "    </tr>\n",
       "  </thead>\n",
       "  <tbody>\n",
       "    <tr>\n",
       "      <th>1200</th>\n",
       "      <td>4.712657</td>\n",
       "      <td>1201</td>\n",
       "      <td>15</td>\n",
       "      <td>1</td>\n",
       "      <td>2</td>\n",
       "      <td>0</td>\n",
       "      <td>4.732855</td>\n",
       "    </tr>\n",
       "    <tr>\n",
       "      <th>1201</th>\n",
       "      <td>7.665347</td>\n",
       "      <td>1202</td>\n",
       "      <td>15</td>\n",
       "      <td>1</td>\n",
       "      <td>2</td>\n",
       "      <td>0</td>\n",
       "      <td>7.355991</td>\n",
       "    </tr>\n",
       "    <tr>\n",
       "      <th>1202</th>\n",
       "      <td>13.219217</td>\n",
       "      <td>1203</td>\n",
       "      <td>15</td>\n",
       "      <td>1</td>\n",
       "      <td>2</td>\n",
       "      <td>0</td>\n",
       "      <td>13.249399</td>\n",
       "    </tr>\n",
       "    <tr>\n",
       "      <th>1203</th>\n",
       "      <td>22.780309</td>\n",
       "      <td>1204</td>\n",
       "      <td>15</td>\n",
       "      <td>1</td>\n",
       "      <td>2</td>\n",
       "      <td>0</td>\n",
       "      <td>23.013123</td>\n",
       "    </tr>\n",
       "    <tr>\n",
       "      <th>1204</th>\n",
       "      <td>24.819071</td>\n",
       "      <td>1205</td>\n",
       "      <td>15</td>\n",
       "      <td>1</td>\n",
       "      <td>2</td>\n",
       "      <td>0</td>\n",
       "      <td>25.049059</td>\n",
       "    </tr>\n",
       "  </tbody>\n",
       "</table>\n",
       "</div>"
      ],
      "text/plain": [
       "       pressure    id  breath_id  R  C  u_out      preds\n",
       "1200   4.712657  1201         15  1  2      0   4.732855\n",
       "1201   7.665347  1202         15  1  2      0   7.355991\n",
       "1202  13.219217  1203         15  1  2      0  13.249399\n",
       "1203  22.780309  1204         15  1  2      0  23.013123\n",
       "1204  24.819071  1205         15  1  2      0  25.049059"
      ]
     },
     "execution_count": 29,
     "metadata": {},
     "output_type": "execute_result"
    }
   ],
   "source": [
    "oof_preds.head()"
   ]
  },
  {
   "cell_type": "code",
   "execution_count": 30,
   "id": "sized-transcript",
   "metadata": {},
   "outputs": [],
   "source": [
    "val = train['pressure'].sort_values().unique()\n",
    "step = val[0]-val[1]\n",
    "p_min = val[0]\n",
    "p_max = val[-1]\n",
    "oof_preds['processed_pred'] = np.clip(np.round((oof_preds.preds - p_min)/step) * step + p_min, p_min, p_max)\n"
   ]
  },
  {
   "cell_type": "code",
   "execution_count": 31,
   "id": "closing-phase",
   "metadata": {},
   "outputs": [
    {
     "data": {
      "text/html": [
       "<div>\n",
       "<style scoped>\n",
       "    .dataframe tbody tr th:only-of-type {\n",
       "        vertical-align: middle;\n",
       "    }\n",
       "\n",
       "    .dataframe tbody tr th {\n",
       "        vertical-align: top;\n",
       "    }\n",
       "\n",
       "    .dataframe thead th {\n",
       "        text-align: right;\n",
       "    }\n",
       "</style>\n",
       "<table border=\"1\" class=\"dataframe\">\n",
       "  <thead>\n",
       "    <tr style=\"text-align: right;\">\n",
       "      <th></th>\n",
       "      <th>pressure</th>\n",
       "      <th>id</th>\n",
       "      <th>breath_id</th>\n",
       "      <th>R</th>\n",
       "      <th>C</th>\n",
       "      <th>u_out</th>\n",
       "      <th>preds</th>\n",
       "      <th>processed_pred</th>\n",
       "    </tr>\n",
       "  </thead>\n",
       "  <tbody>\n",
       "    <tr>\n",
       "      <th>1200</th>\n",
       "      <td>4.712657</td>\n",
       "      <td>1201</td>\n",
       "      <td>15</td>\n",
       "      <td>1</td>\n",
       "      <td>2</td>\n",
       "      <td>0</td>\n",
       "      <td>4.732855</td>\n",
       "      <td>4.712657</td>\n",
       "    </tr>\n",
       "    <tr>\n",
       "      <th>1201</th>\n",
       "      <td>7.665347</td>\n",
       "      <td>1202</td>\n",
       "      <td>15</td>\n",
       "      <td>1</td>\n",
       "      <td>2</td>\n",
       "      <td>0</td>\n",
       "      <td>7.355991</td>\n",
       "      <td>7.384139</td>\n",
       "    </tr>\n",
       "    <tr>\n",
       "      <th>1202</th>\n",
       "      <td>13.219217</td>\n",
       "      <td>1203</td>\n",
       "      <td>15</td>\n",
       "      <td>1</td>\n",
       "      <td>2</td>\n",
       "      <td>0</td>\n",
       "      <td>13.249399</td>\n",
       "      <td>13.219217</td>\n",
       "    </tr>\n",
       "    <tr>\n",
       "      <th>1203</th>\n",
       "      <td>22.780309</td>\n",
       "      <td>1204</td>\n",
       "      <td>15</td>\n",
       "      <td>1</td>\n",
       "      <td>2</td>\n",
       "      <td>0</td>\n",
       "      <td>23.013123</td>\n",
       "      <td>22.991215</td>\n",
       "    </tr>\n",
       "    <tr>\n",
       "      <th>1204</th>\n",
       "      <td>24.819071</td>\n",
       "      <td>1205</td>\n",
       "      <td>15</td>\n",
       "      <td>1</td>\n",
       "      <td>2</td>\n",
       "      <td>0</td>\n",
       "      <td>25.049059</td>\n",
       "      <td>25.029977</td>\n",
       "    </tr>\n",
       "  </tbody>\n",
       "</table>\n",
       "</div>"
      ],
      "text/plain": [
       "       pressure    id  breath_id  R  C  u_out      preds  processed_pred\n",
       "1200   4.712657  1201         15  1  2      0   4.732855        4.712657\n",
       "1201   7.665347  1202         15  1  2      0   7.355991        7.384139\n",
       "1202  13.219217  1203         15  1  2      0  13.249399       13.219217\n",
       "1203  22.780309  1204         15  1  2      0  23.013123       22.991215\n",
       "1204  24.819071  1205         15  1  2      0  25.049059       25.029977"
      ]
     },
     "execution_count": 31,
     "metadata": {},
     "output_type": "execute_result"
    }
   ],
   "source": [
    "oof_preds.head()"
   ]
  },
  {
   "cell_type": "code",
   "execution_count": 32,
   "id": "inner-assets",
   "metadata": {},
   "outputs": [
    {
     "data": {
      "text/plain": [
       "0.10724795910338807"
      ]
     },
     "execution_count": 32,
     "metadata": {},
     "output_type": "execute_result"
    }
   ],
   "source": [
    "mean_absolute_error(oof_preds[oof_preds.u_out==0]['pressure'],oof_preds[oof_preds.u_out==0]['processed_pred'])"
   ]
  },
  {
   "cell_type": "code",
   "execution_count": 33,
   "id": "circular-commodity",
   "metadata": {},
   "outputs": [],
   "source": [
    "oot_preds = pd.concat([x['preds'] for x in test_preds],axis=1).median(axis=1)\n",
    "oot_preds = pd.concat([test_preds[0]['id'],oot_preds],axis=1)\n",
    "oot_preds.columns = ['id','pressure']"
   ]
  },
  {
   "cell_type": "code",
   "execution_count": 34,
   "id": "animated-immune",
   "metadata": {},
   "outputs": [
    {
     "data": {
      "text/html": [
       "<div>\n",
       "<style scoped>\n",
       "    .dataframe tbody tr th:only-of-type {\n",
       "        vertical-align: middle;\n",
       "    }\n",
       "\n",
       "    .dataframe tbody tr th {\n",
       "        vertical-align: top;\n",
       "    }\n",
       "\n",
       "    .dataframe thead th {\n",
       "        text-align: right;\n",
       "    }\n",
       "</style>\n",
       "<table border=\"1\" class=\"dataframe\">\n",
       "  <thead>\n",
       "    <tr style=\"text-align: right;\">\n",
       "      <th></th>\n",
       "      <th>id</th>\n",
       "      <th>pressure</th>\n",
       "    </tr>\n",
       "  </thead>\n",
       "  <tbody>\n",
       "    <tr>\n",
       "      <th>0</th>\n",
       "      <td>1</td>\n",
       "      <td>6.270146</td>\n",
       "    </tr>\n",
       "    <tr>\n",
       "      <th>1</th>\n",
       "      <td>2</td>\n",
       "      <td>5.921060</td>\n",
       "    </tr>\n",
       "    <tr>\n",
       "      <th>2</th>\n",
       "      <td>3</td>\n",
       "      <td>7.170955</td>\n",
       "    </tr>\n",
       "    <tr>\n",
       "      <th>3</th>\n",
       "      <td>4</td>\n",
       "      <td>7.660649</td>\n",
       "    </tr>\n",
       "    <tr>\n",
       "      <th>4</th>\n",
       "      <td>5</td>\n",
       "      <td>9.136593</td>\n",
       "    </tr>\n",
       "  </tbody>\n",
       "</table>\n",
       "</div>"
      ],
      "text/plain": [
       "   id  pressure\n",
       "0   1  6.270146\n",
       "1   2  5.921060\n",
       "2   3  7.170955\n",
       "3   4  7.660649\n",
       "4   5  9.136593"
      ]
     },
     "execution_count": 34,
     "metadata": {},
     "output_type": "execute_result"
    }
   ],
   "source": [
    "oot_preds.head()"
   ]
  },
  {
   "cell_type": "code",
   "execution_count": 35,
   "id": "olympic-nerve",
   "metadata": {},
   "outputs": [],
   "source": [
    "oot_preds['pressure'] = np.clip(np.round((oot_preds.pressure - p_min)/step) * step + p_min, p_min, p_max)"
   ]
  },
  {
   "cell_type": "code",
   "execution_count": 36,
   "id": "beneficial-vintage",
   "metadata": {},
   "outputs": [],
   "source": [
    "sub = pd.read_csv(DATA_DIR+'sample_submission.csv')\n",
    "sub = sub[['id']].merge(oot_preds,on='id',how='left')\n",
    "sub.pressure = sub.pressure.fillna(0)"
   ]
  },
  {
   "cell_type": "code",
   "execution_count": 37,
   "id": "nervous-improvement",
   "metadata": {},
   "outputs": [],
   "source": [
    "sub.to_csv('regression_sub_correct.csv',index=False)"
   ]
  },
  {
   "cell_type": "code",
   "execution_count": 35,
   "id": "peripheral-estate",
   "metadata": {},
   "outputs": [
    {
     "data": {
      "text/html": [
       "<div>\n",
       "<style scoped>\n",
       "    .dataframe tbody tr th:only-of-type {\n",
       "        vertical-align: middle;\n",
       "    }\n",
       "\n",
       "    .dataframe tbody tr th {\n",
       "        vertical-align: top;\n",
       "    }\n",
       "\n",
       "    .dataframe thead th {\n",
       "        text-align: right;\n",
       "    }\n",
       "</style>\n",
       "<table border=\"1\" class=\"dataframe\">\n",
       "  <thead>\n",
       "    <tr style=\"text-align: right;\">\n",
       "      <th></th>\n",
       "      <th>id</th>\n",
       "      <th>pressure</th>\n",
       "    </tr>\n",
       "  </thead>\n",
       "  <tbody>\n",
       "    <tr>\n",
       "      <th>0</th>\n",
       "      <td>1</td>\n",
       "      <td>6.259305</td>\n",
       "    </tr>\n",
       "    <tr>\n",
       "      <th>1</th>\n",
       "      <td>2</td>\n",
       "      <td>5.907794</td>\n",
       "    </tr>\n",
       "    <tr>\n",
       "      <th>2</th>\n",
       "      <td>3</td>\n",
       "      <td>7.102931</td>\n",
       "    </tr>\n",
       "    <tr>\n",
       "      <th>3</th>\n",
       "      <td>4</td>\n",
       "      <td>7.595046</td>\n",
       "    </tr>\n",
       "    <tr>\n",
       "      <th>4</th>\n",
       "      <td>5</td>\n",
       "      <td>9.176844</td>\n",
       "    </tr>\n",
       "  </tbody>\n",
       "</table>\n",
       "</div>"
      ],
      "text/plain": [
       "   id  pressure\n",
       "0   1  6.259305\n",
       "1   2  5.907794\n",
       "2   3  7.102931\n",
       "3   4  7.595046\n",
       "4   5  9.176844"
      ]
     },
     "execution_count": 35,
     "metadata": {},
     "output_type": "execute_result"
    }
   ],
   "source": [
    "sub.head()"
   ]
  },
  {
   "cell_type": "code",
   "execution_count": 28,
   "id": "mature-landing",
   "metadata": {},
   "outputs": [],
   "source": [
    "sub.to_csv('../subs/{}.csv'.format(config.experiment_name),index=False)"
   ]
  },
  {
   "cell_type": "code",
   "execution_count": 29,
   "id": "vital-toronto",
   "metadata": {},
   "outputs": [],
   "source": [
    "oof_preds.reset_index(drop=True,inplace=True)"
   ]
  },
  {
   "cell_type": "code",
   "execution_count": 30,
   "id": "proved-contrast",
   "metadata": {},
   "outputs": [
    {
     "data": {
      "text/html": [
       "<div>\n",
       "<style scoped>\n",
       "    .dataframe tbody tr th:only-of-type {\n",
       "        vertical-align: middle;\n",
       "    }\n",
       "\n",
       "    .dataframe tbody tr th {\n",
       "        vertical-align: top;\n",
       "    }\n",
       "\n",
       "    .dataframe thead th {\n",
       "        text-align: right;\n",
       "    }\n",
       "</style>\n",
       "<table border=\"1\" class=\"dataframe\">\n",
       "  <thead>\n",
       "    <tr style=\"text-align: right;\">\n",
       "      <th></th>\n",
       "      <th>pressure</th>\n",
       "      <th>id</th>\n",
       "      <th>breath_id</th>\n",
       "      <th>R</th>\n",
       "      <th>C</th>\n",
       "      <th>u_out</th>\n",
       "      <th>preds</th>\n",
       "    </tr>\n",
       "  </thead>\n",
       "  <tbody>\n",
       "    <tr>\n",
       "      <th>0</th>\n",
       "      <td>6.259305</td>\n",
       "      <td>241</td>\n",
       "      <td>3</td>\n",
       "      <td>1</td>\n",
       "      <td>1</td>\n",
       "      <td>0</td>\n",
       "      <td>6.259305</td>\n",
       "    </tr>\n",
       "    <tr>\n",
       "      <th>1</th>\n",
       "      <td>5.767190</td>\n",
       "      <td>242</td>\n",
       "      <td>3</td>\n",
       "      <td>1</td>\n",
       "      <td>1</td>\n",
       "      <td>0</td>\n",
       "      <td>5.696887</td>\n",
       "    </tr>\n",
       "    <tr>\n",
       "      <th>2</th>\n",
       "      <td>6.540513</td>\n",
       "      <td>243</td>\n",
       "      <td>3</td>\n",
       "      <td>1</td>\n",
       "      <td>1</td>\n",
       "      <td>0</td>\n",
       "      <td>6.540513</td>\n",
       "    </tr>\n",
       "    <tr>\n",
       "      <th>3</th>\n",
       "      <td>8.649578</td>\n",
       "      <td>244</td>\n",
       "      <td>3</td>\n",
       "      <td>1</td>\n",
       "      <td>1</td>\n",
       "      <td>0</td>\n",
       "      <td>8.860484</td>\n",
       "    </tr>\n",
       "    <tr>\n",
       "      <th>4</th>\n",
       "      <td>10.758642</td>\n",
       "      <td>245</td>\n",
       "      <td>3</td>\n",
       "      <td>1</td>\n",
       "      <td>1</td>\n",
       "      <td>0</td>\n",
       "      <td>11.039850</td>\n",
       "    </tr>\n",
       "  </tbody>\n",
       "</table>\n",
       "</div>"
      ],
      "text/plain": [
       "    pressure   id  breath_id  R  C  u_out      preds\n",
       "0   6.259305  241          3  1  1      0   6.259305\n",
       "1   5.767190  242          3  1  1      0   5.696887\n",
       "2   6.540513  243          3  1  1      0   6.540513\n",
       "3   8.649578  244          3  1  1      0   8.860484\n",
       "4  10.758642  245          3  1  1      0  11.039850"
      ]
     },
     "execution_count": 30,
     "metadata": {},
     "output_type": "execute_result"
    }
   ],
   "source": [
    "oof_preds.head()"
   ]
  },
  {
   "cell_type": "code",
   "execution_count": 31,
   "id": "registered-coverage",
   "metadata": {},
   "outputs": [],
   "source": [
    "oof_preds = oof_preds[oof_preds.u_out==0]\n",
    "oof_preds.reset_index(drop=True,inplace=True)"
   ]
  },
  {
   "cell_type": "code",
   "execution_count": 32,
   "id": "tribal-principle",
   "metadata": {},
   "outputs": [],
   "source": [
    "oof_preds.to_feather('../oofs/{}.feather'.format(config.experiment_name))"
   ]
  },
  {
   "cell_type": "code",
   "execution_count": 33,
   "id": "characteristic-throw",
   "metadata": {},
   "outputs": [],
   "source": [
    "oof_preds = oof_preds[oof_preds.u_out==0]"
   ]
  },
  {
   "cell_type": "code",
   "execution_count": 34,
   "id": "monetary-message",
   "metadata": {},
   "outputs": [
    {
     "data": {
      "text/html": [
       "<div>\n",
       "<style scoped>\n",
       "    .dataframe tbody tr th:only-of-type {\n",
       "        vertical-align: middle;\n",
       "    }\n",
       "\n",
       "    .dataframe tbody tr th {\n",
       "        vertical-align: top;\n",
       "    }\n",
       "\n",
       "    .dataframe thead th {\n",
       "        text-align: right;\n",
       "    }\n",
       "</style>\n",
       "<table border=\"1\" class=\"dataframe\">\n",
       "  <thead>\n",
       "    <tr style=\"text-align: right;\">\n",
       "      <th></th>\n",
       "      <th>pressure</th>\n",
       "      <th>id</th>\n",
       "      <th>breath_id</th>\n",
       "      <th>R</th>\n",
       "      <th>C</th>\n",
       "      <th>u_out</th>\n",
       "      <th>preds</th>\n",
       "    </tr>\n",
       "  </thead>\n",
       "  <tbody>\n",
       "    <tr>\n",
       "      <th>0</th>\n",
       "      <td>6.259305</td>\n",
       "      <td>241</td>\n",
       "      <td>3</td>\n",
       "      <td>1</td>\n",
       "      <td>1</td>\n",
       "      <td>0</td>\n",
       "      <td>6.259305</td>\n",
       "    </tr>\n",
       "    <tr>\n",
       "      <th>1</th>\n",
       "      <td>5.767190</td>\n",
       "      <td>242</td>\n",
       "      <td>3</td>\n",
       "      <td>1</td>\n",
       "      <td>1</td>\n",
       "      <td>0</td>\n",
       "      <td>5.696887</td>\n",
       "    </tr>\n",
       "    <tr>\n",
       "      <th>2</th>\n",
       "      <td>6.540513</td>\n",
       "      <td>243</td>\n",
       "      <td>3</td>\n",
       "      <td>1</td>\n",
       "      <td>1</td>\n",
       "      <td>0</td>\n",
       "      <td>6.540513</td>\n",
       "    </tr>\n",
       "    <tr>\n",
       "      <th>3</th>\n",
       "      <td>8.649578</td>\n",
       "      <td>244</td>\n",
       "      <td>3</td>\n",
       "      <td>1</td>\n",
       "      <td>1</td>\n",
       "      <td>0</td>\n",
       "      <td>8.860484</td>\n",
       "    </tr>\n",
       "    <tr>\n",
       "      <th>4</th>\n",
       "      <td>10.758642</td>\n",
       "      <td>245</td>\n",
       "      <td>3</td>\n",
       "      <td>1</td>\n",
       "      <td>1</td>\n",
       "      <td>0</td>\n",
       "      <td>11.039850</td>\n",
       "    </tr>\n",
       "  </tbody>\n",
       "</table>\n",
       "</div>"
      ],
      "text/plain": [
       "    pressure   id  breath_id  R  C  u_out      preds\n",
       "0   6.259305  241          3  1  1      0   6.259305\n",
       "1   5.767190  242          3  1  1      0   5.696887\n",
       "2   6.540513  243          3  1  1      0   6.540513\n",
       "3   8.649578  244          3  1  1      0   8.860484\n",
       "4  10.758642  245          3  1  1      0  11.039850"
      ]
     },
     "execution_count": 34,
     "metadata": {},
     "output_type": "execute_result"
    }
   ],
   "source": [
    "oof_preds.head()"
   ]
  },
  {
   "cell_type": "code",
   "execution_count": 38,
   "id": "embedded-genius",
   "metadata": {},
   "outputs": [
    {
     "data": {
      "text/plain": [
       "0          6.282739\n",
       "1          5.907794\n",
       "2          7.126365\n",
       "3          7.618480\n",
       "4          9.141692\n",
       "             ...   \n",
       "4023995    0.000000\n",
       "4023996    0.000000\n",
       "4023997    0.000000\n",
       "4023998    0.000000\n",
       "4023999    0.000000\n",
       "Name: pressure, Length: 4024000, dtype: float64"
      ]
     },
     "execution_count": 38,
     "metadata": {},
     "output_type": "execute_result"
    }
   ],
   "source": [
    "(pd.read_csv('../subs/baseline_LSTM_Classification.csv')['pressure']+pd.read_csv('../subs/v2-RNN-classification-top3.csv')['pressure']+\n",
    "pd.read_csv('../subs/v0-LSTM-classification-top3-smooth-loss.csv')['pressure'])/3"
   ]
  },
  {
   "cell_type": "code",
   "execution_count": 50,
   "id": "thirty-wesley",
   "metadata": {},
   "outputs": [],
   "source": [
    "m = pd.concat([pd.read_csv('../subs/baseline_LSTM_Classification.csv')['pressure'],pd.read_csv('../subs/v2-RNN-classification-top3.csv')['pressure'],\n",
    "pd.read_csv('../subs/v0-LSTM-classification-top3-smooth-loss.csv')['pressure']],axis=1)"
   ]
  },
  {
   "cell_type": "code",
   "execution_count": 51,
   "id": "hawaiian-tourism",
   "metadata": {},
   "outputs": [],
   "source": [
    "# m"
   ]
  },
  {
   "cell_type": "code",
   "execution_count": 52,
   "id": "willing-baseball",
   "metadata": {},
   "outputs": [],
   "source": [
    "sub['pressure'] = m.mean(axis=1)"
   ]
  },
  {
   "cell_type": "code",
   "execution_count": 53,
   "id": "million-threat",
   "metadata": {},
   "outputs": [],
   "source": [
    "sub.to_csv(\"avg_lstm_0.17_0.167_0.162.csv\",index=False)"
   ]
  },
  {
   "cell_type": "code",
   "execution_count": 35,
   "id": "relative-fleet",
   "metadata": {},
   "outputs": [
    {
     "data": {
      "text/plain": [
       "0          6.329607\n",
       "1          5.907794\n",
       "2          7.173233\n",
       "3          7.665348\n",
       "4          9.141692\n",
       "             ...   \n",
       "4023995    0.000000\n",
       "4023996    0.000000\n",
       "4023997    0.000000\n",
       "4023998    0.000000\n",
       "4023999    0.000000\n",
       "Name: pressure, Length: 4024000, dtype: float64"
      ]
     },
     "execution_count": 35,
     "metadata": {},
     "output_type": "execute_result"
    }
   ],
   "source": [
    "(pd.read_csv('../subs/baseline_LSTM_Classification.csv')['pressure']+pd.read_csv('../subs/v2-RNN-classification-top3.csv')['pressure'])/2"
   ]
  },
  {
   "cell_type": "code",
   "execution_count": 57,
   "id": "variable-prospect",
   "metadata": {},
   "outputs": [],
   "source": [
    "config = OmegaConf.load('../configs/cnn-lstm-classification.yaml')"
   ]
  },
  {
   "cell_type": "code",
   "execution_count": 58,
   "id": "amateur-leader",
   "metadata": {},
   "outputs": [
    {
     "data": {
      "text/plain": [
       "{'class': 'LSTMCNNClassfier', 'kwargs': {'embedding_layer': {'u_out': {'num_embeddings': 2, 'embedding_dim': 32}, 'R': {'num_embeddings': 3, 'embedding_dim': 32}, 'C': {'num_embeddings': 3, 'embedding_dim': 32}}, 'input_dim': 148, 'rnn_layer': {'class': 'LSTM', 'kwargs': {'input_size': 148, 'hidden_size': 512, 'num_layers': 2, 'batch_first': True, 'bidirectional': True, 'dropout': 0.2}}, 'rnn_init': {'class': 'InitRNNWeights', 'kwargs': {'init_type': 'yakama'}}, 'cnn_layer': {'input_layer': {'class': 'Conv1DBnRelu', 'kwargs': {'in_channels': 1024, 'out_channels': 512, 'kernel_size': 3, 'padding': 1}}, 'block1': {'class': 'Conv1DBasicBlock', 'kwargs': {'in_channels': 512, 'out_channels': 512, 'kernel_size': 3, 'padding': 1, 'is_bn': False}}, 'block2': {'class': 'Conv1DBasicBlock', 'kwargs': {'in_channels': 512, 'out_channels': 512, 'kernel_size': 3, 'padding': 1, 'is_bn': False}}, 'block3': {'class': 'Conv1DBasicBlock', 'kwargs': {'in_channels': 512, 'out_channels': 512, 'kernel_size': 3, 'padding': 1, 'is_bn': False}}}}}"
      ]
     },
     "execution_count": 58,
     "metadata": {},
     "output_type": "execute_result"
    }
   ],
   "source": [
    "config.model"
   ]
  },
  {
   "cell_type": "code",
   "execution_count": 59,
   "id": "exposed-hobby",
   "metadata": {},
   "outputs": [],
   "source": [
    "from modellib import LSTMCNNClassfier"
   ]
  },
  {
   "cell_type": "code",
   "execution_count": 60,
   "id": "celtic-colonial",
   "metadata": {},
   "outputs": [],
   "source": [
    "config.model.kwargs['output_dim'] = 100"
   ]
  },
  {
   "cell_type": "code",
   "execution_count": 61,
   "id": "protected-klein",
   "metadata": {},
   "outputs": [
    {
     "name": "stdout",
     "output_type": "stream",
     "text": [
      "{'init_type': 'yakama'}\n",
      "tensor(-8.9367)\n",
      "tensor(22.9660)\n"
     ]
    }
   ],
   "source": [
    "mod = LSTMCNNClassfier(config.model.kwargs)"
   ]
  },
  {
   "cell_type": "code",
   "execution_count": 62,
   "id": "republican-equilibrium",
   "metadata": {},
   "outputs": [],
   "source": [
    "# mod(m)"
   ]
  },
  {
   "cell_type": "code",
   "execution_count": 53,
   "id": "electrical-association",
   "metadata": {},
   "outputs": [],
   "source": [
    "m = next(iter(val_dl))"
   ]
  },
  {
   "cell_type": "code",
   "execution_count": 63,
   "id": "light-custom",
   "metadata": {},
   "outputs": [],
   "source": [
    "preds = mod(m)"
   ]
  },
  {
   "cell_type": "code",
   "execution_count": null,
   "id": "rural-terminal",
   "metadata": {},
   "outputs": [],
   "source": []
  }
 ],
 "metadata": {
  "kernelspec": {
   "display_name": "Python 3",
   "language": "python",
   "name": "python3"
  },
  "language_info": {
   "codemirror_mode": {
    "name": "ipython",
    "version": 3
   },
   "file_extension": ".py",
   "mimetype": "text/x-python",
   "name": "python",
   "nbconvert_exporter": "python",
   "pygments_lexer": "ipython3",
   "version": "3.8.8"
  }
 },
 "nbformat": 4,
 "nbformat_minor": 5
}
