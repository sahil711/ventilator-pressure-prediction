{
 "cells": [
  {
   "cell_type": "code",
   "execution_count": null,
   "id": "charming-picture",
   "metadata": {},
   "outputs": [],
   "source": [
    "%load_ext autoreload\n",
    "%autoreload 2\n",
    "import pandas as pd\n",
    "import os\n",
    "import sys\n",
    "sys.path.append('../src')\n",
    "from torch import nn\n",
    "from omegaconf import OmegaConf\n",
    "from torch.utils.data import DataLoader\n",
    "import torch\n",
    "from sklearn.model_selection import GroupKFold\n",
    "from sklearn.preprocessing import StandardScaler\n",
    "import numpy as np\n",
    "from tqdm import tqdm\n",
    "pd.options.display.max_columns=100"
   ]
  },
  {
   "cell_type": "code",
   "execution_count": 2,
   "id": "disturbed-reverse",
   "metadata": {},
   "outputs": [],
   "source": [
    "from datalib import VentilatorData,VentilatorData2,VentilatorDataClassification\n",
    "import modellib\n",
    "from utils import fc\n",
    "import datalib"
   ]
  },
  {
   "cell_type": "code",
   "execution_count": 18,
   "id": "environmental-connecticut",
   "metadata": {},
   "outputs": [],
   "source": [
    "m = torch.stack([torch.tensor([[1,2,2,3,4,4,3,2,2,23,4]])]*5)"
   ]
  },
  {
   "cell_type": "code",
   "execution_count": 19,
   "id": "relative-handbook",
   "metadata": {},
   "outputs": [
    {
     "data": {
      "text/plain": [
       "torch.Size([5, 1, 11])"
      ]
     },
     "execution_count": 19,
     "metadata": {},
     "output_type": "execute_result"
    }
   ],
   "source": [
    "m.shape"
   ]
  },
  {
   "cell_type": "code",
   "execution_count": 34,
   "id": "thrown-hazard",
   "metadata": {},
   "outputs": [
    {
     "data": {
      "text/plain": [
       "torch.Size([4, 32])"
      ]
     },
     "execution_count": 34,
     "metadata": {},
     "output_type": "execute_result"
    }
   ],
   "source": [
    "# m = torch.stack([torch.tensor(np.ones((32,5)))]*4)\n",
    "m = torch.stack([torch.tensor(np.ones(32))]*4)\n",
    "m.shape"
   ]
  },
  {
   "cell_type": "code",
   "execution_count": 36,
   "id": "dramatic-employment",
   "metadata": {},
   "outputs": [
    {
     "data": {
      "text/plain": [
       "torch.Size([128])"
      ]
     },
     "execution_count": 36,
     "metadata": {},
     "output_type": "execute_result"
    }
   ],
   "source": [
    "torch.hstack([x for x in m]).shape"
   ]
  },
  {
   "cell_type": "code",
   "execution_count": 3,
   "id": "wooden-roots",
   "metadata": {},
   "outputs": [],
   "source": [
    "DATA_DIR = '/mnt/disks/extra_data/kaggle/ventilator_prediction/'\n",
    "R_MAP = {5: 0, 50: 1, 20: 2}\n",
    "C_MAP = {20: 0, 50: 1, 10: 2}"
   ]
  },
  {
   "cell_type": "code",
   "execution_count": 4,
   "id": "fatal-complaint",
   "metadata": {},
   "outputs": [],
   "source": [
    "train = pd.read_csv(os.path.join(DATA_DIR,'train.csv'))\n",
    "test = pd.read_csv(os.path.join(DATA_DIR,'test.csv'))\n",
    "train.breath_id = train.breath_id.map(dict(zip(train.breath_id.unique().tolist(),range(train.breath_id.nunique()))))\n",
    "test.breath_id = train.breath_id.map(dict(zip(train.breath_id.unique().tolist(),range(train.breath_id.nunique()))))"
   ]
  },
  {
   "cell_type": "code",
   "execution_count": 5,
   "id": "accurate-embassy",
   "metadata": {},
   "outputs": [],
   "source": [
    "pressure_dict = dict(zip(train['pressure'].unique().tolist(),range(train['pressure'].nunique())))\n",
    "pressure_reverse_dict = {v:k for k,v in pressure_dict.items()}"
   ]
  },
  {
   "cell_type": "code",
   "execution_count": 6,
   "id": "protected-straight",
   "metadata": {},
   "outputs": [],
   "source": [
    "train['pressure'] = train['pressure'].map(pressure_dict)"
   ]
  },
  {
   "cell_type": "code",
   "execution_count": 7,
   "id": "hungarian-saudi",
   "metadata": {},
   "outputs": [
    {
     "name": "stdout",
     "output_type": "stream",
     "text": [
      "5\n",
      "10\n",
      "5\n",
      "10\n"
     ]
    }
   ],
   "source": [
    "train = fc(train)"
   ]
  },
  {
   "cell_type": "code",
   "execution_count": 8,
   "id": "proper-racing",
   "metadata": {},
   "outputs": [],
   "source": [
    "train.R = train.R.map(R_MAP)\n",
    "train.C = train.C.map(C_MAP)"
   ]
  },
  {
   "cell_type": "code",
   "execution_count": 9,
   "id": "alien-natural",
   "metadata": {},
   "outputs": [
    {
     "name": "stderr",
     "output_type": "stream",
     "text": [
      "100%|██████████| 75450/75450 [08:52<00:00, 141.75it/s]\n"
     ]
    }
   ],
   "source": [
    "group_dict={}\n",
    "for i,x in tqdm(train.groupby('breath_id'),total=train.breath_id.nunique()):\n",
    "    m = x.to_dict(orient='records')\n",
    "    group_dict[i] = {k:[a[k] for a in m] for k in [k for k in m[0].keys() if k not in ['id','breath_id']]}"
   ]
  },
  {
   "cell_type": "code",
   "execution_count": 10,
   "id": "sonic-graduate",
   "metadata": {},
   "outputs": [],
   "source": [
    "config = OmegaConf.load('../configs/lstm-classification.yaml')\n",
    "config.model.kwargs[\"output_dim\"] = 950"
   ]
  },
  {
   "cell_type": "code",
   "execution_count": 11,
   "id": "warming-error",
   "metadata": {},
   "outputs": [],
   "source": [
    "from litmodellib import ClassifcationModel"
   ]
  },
  {
   "cell_type": "code",
   "execution_count": 12,
   "id": "tutorial-olive",
   "metadata": {},
   "outputs": [
    {
     "name": "stdout",
     "output_type": "stream",
     "text": [
      "{'init_type': 'yakama'}\n",
      "tensor(111.3332)\n",
      "tensor(25.3399)\n"
     ]
    }
   ],
   "source": [
    "lit_model = ClassifcationModel(\n",
    "    config,\n",
    "    num_train_iter=1,\n",
    "    num_steps=1,\n",
    "    mapping='../pressure_mapper.pkl',\n",
    "    \n",
    ")"
   ]
  },
  {
   "cell_type": "code",
   "execution_count": 13,
   "id": "motivated-canvas",
   "metadata": {},
   "outputs": [],
   "source": [
    "data = getattr(datalib,config.dataset.train['class'])(**config.dataset.train['kwargs'],group_dict=group_dict)\n",
    "dl = DataLoader(\n",
    "    dataset=data,\n",
    "    shuffle=True,\n",
    "    num_workers=1,\n",
    "    batch_size=8,\n",
    "    pin_memory=True,\n",
    ")"
   ]
  },
  {
   "cell_type": "code",
   "execution_count": 14,
   "id": "convenient-feelings",
   "metadata": {},
   "outputs": [],
   "source": [
    "m = next(iter(dl))"
   ]
  },
  {
   "cell_type": "code",
   "execution_count": 15,
   "id": "analyzed-tamil",
   "metadata": {},
   "outputs": [
    {
     "name": "stdout",
     "output_type": "stream",
     "text": [
      "{'init_type': 'yakama'}\n",
      "tensor(-92.4493)\n",
      "tensor(-201.7668)\n"
     ]
    }
   ],
   "source": [
    "mod = getattr(modellib,config.model['class'])(config.model['kwargs'])"
   ]
  },
  {
   "cell_type": "code",
   "execution_count": 16,
   "id": "satisfied-wedding",
   "metadata": {},
   "outputs": [],
   "source": [
    "preds = mod(m)"
   ]
  },
  {
   "cell_type": "code",
   "execution_count": 17,
   "id": "departmental-charity",
   "metadata": {},
   "outputs": [],
   "source": [
    "preds = preds.view(-1,950)"
   ]
  },
  {
   "cell_type": "code",
   "execution_count": 18,
   "id": "electronic-drink",
   "metadata": {},
   "outputs": [
    {
     "data": {
      "text/plain": [
       "torch.Size([640, 950])"
      ]
     },
     "execution_count": 18,
     "metadata": {},
     "output_type": "execute_result"
    }
   ],
   "source": [
    "preds.shape"
   ]
  },
  {
   "cell_type": "code",
   "execution_count": 24,
   "id": "corporate-domestic",
   "metadata": {},
   "outputs": [
    {
     "data": {
      "text/plain": [
       "torch.Size([8, 80])"
      ]
     },
     "execution_count": 24,
     "metadata": {},
     "output_type": "execute_result"
    }
   ],
   "source": []
  },
  {
   "cell_type": "code",
   "execution_count": 21,
   "id": "subsequent-rubber",
   "metadata": {},
   "outputs": [],
   "source": [
    "m1 = torch.stack([preds]*4)\n",
    "m2 = torch.stack([m['target'].view(-1)]*4)"
   ]
  },
  {
   "cell_type": "code",
   "execution_count": 22,
   "id": "above-seafood",
   "metadata": {},
   "outputs": [
    {
     "data": {
      "text/plain": [
       "(torch.Size([4, 640, 950]), torch.Size([4, 640]))"
      ]
     },
     "execution_count": 22,
     "metadata": {},
     "output_type": "execute_result"
    }
   ],
   "source": [
    "m1.shape,m2.shape"
   ]
  },
  {
   "cell_type": "code",
   "execution_count": 24,
   "id": "selective-angola",
   "metadata": {},
   "outputs": [
    {
     "data": {
      "text/plain": [
       "torch.Size([2560, 950])"
      ]
     },
     "execution_count": 24,
     "metadata": {},
     "output_type": "execute_result"
    }
   ],
   "source": [
    "torch.vstack([x for x in m1]).shape"
   ]
  },
  {
   "cell_type": "code",
   "execution_count": 25,
   "id": "planned-rugby",
   "metadata": {},
   "outputs": [
    {
     "data": {
      "text/plain": [
       "torch.Size([2560])"
      ]
     },
     "execution_count": 25,
     "metadata": {},
     "output_type": "execute_result"
    }
   ],
   "source": [
    "torch.hstack([x for x in m2]).shape"
   ]
  },
  {
   "cell_type": "code",
   "execution_count": 68,
   "id": "cubic-crazy",
   "metadata": {},
   "outputs": [],
   "source": [
    "# m1 = torch.cat(m1,dim=0)\n",
    "m2 = torch.cat(m2,dim=0)"
   ]
  },
  {
   "cell_type": "code",
   "execution_count": 36,
   "id": "tight-quilt",
   "metadata": {},
   "outputs": [],
   "source": [
    "def get_true_val(mapping,tensor):\n",
    "    return torch.tensor([mapping[x.item()] for x in tensor])    "
   ]
  },
  {
   "cell_type": "code",
   "execution_count": 40,
   "id": "perceived-metro",
   "metadata": {},
   "outputs": [
    {
     "name": "stdout",
     "output_type": "stream",
     "text": [
      "CPU times: user 767 ms, sys: 0 ns, total: 767 ms\n",
      "Wall time: 364 ms\n"
     ]
    }
   ],
   "source": [
    "%%time\n",
    "topk = m1.topk(k=3, dim=1).indices\n",
    "true_preds = (\n",
    "    get_true_val(mapping, topk.view(-1))\n",
    "    .view(-1, 3)\n",
    "    .median(dim=1)\n",
    "    .values\n",
    ")\n"
   ]
  },
  {
   "cell_type": "code",
   "execution_count": 69,
   "id": "miniature-tucson",
   "metadata": {},
   "outputs": [
    {
     "data": {
      "text/plain": [
       "torch.Size([20480])"
      ]
     },
     "execution_count": 69,
     "metadata": {},
     "output_type": "execute_result"
    }
   ],
   "source": [
    "m2.shape"
   ]
  },
  {
   "cell_type": "code",
   "execution_count": null,
   "id": "ruled-horizontal",
   "metadata": {},
   "outputs": [],
   "source": []
  },
  {
   "cell_type": "code",
   "execution_count": null,
   "id": "attempted-royal",
   "metadata": {},
   "outputs": [],
   "source": []
  },
  {
   "cell_type": "code",
   "execution_count": 37,
   "id": "daily-young",
   "metadata": {},
   "outputs": [],
   "source": [
    "import joblib\n",
    "mapping = joblib.load('../pressure_mapper.pkl')"
   ]
  },
  {
   "cell_type": "code",
   "execution_count": 99,
   "id": "initial-emerald",
   "metadata": {},
   "outputs": [],
   "source": [
    "config.model.kwargs['output_dim'] = 950"
   ]
  },
  {
   "cell_type": "code",
   "execution_count": 100,
   "id": "private-testament",
   "metadata": {},
   "outputs": [
    {
     "data": {
      "text/plain": [
       "950"
      ]
     },
     "execution_count": 100,
     "metadata": {},
     "output_type": "execute_result"
    }
   ],
   "source": [
    "config.model.kwargs['output_dim']"
   ]
  },
  {
   "cell_type": "code",
   "execution_count": 101,
   "id": "swiss-rings",
   "metadata": {
    "tags": []
   },
   "outputs": [
    {
     "name": "stdout",
     "output_type": "stream",
     "text": [
      "CPU times: user 116 ms, sys: 261 µs, total: 116 ms\n",
      "Wall time: 24.2 ms\n"
     ]
    },
    {
     "data": {
      "text/plain": [
       "tensor(33.7162)"
      ]
     },
     "execution_count": 101,
     "metadata": {},
     "output_type": "execute_result"
    }
   ],
   "source": [
    "%%time\n",
    "k=1\n",
    "topk = preds.view(-1,950).topk(k=k,dim=1).indices\n",
    "torch.tensor([torch.median(get_true_val(mapping,x)).item() for x in topk]).mean()"
   ]
  },
  {
   "cell_type": "code",
   "execution_count": 85,
   "id": "photographic-constraint",
   "metadata": {},
   "outputs": [
    {
     "name": "stdout",
     "output_type": "stream",
     "text": [
      "CPU times: user 7.75 ms, sys: 3.86 ms, total: 11.6 ms\n",
      "Wall time: 10.9 ms\n"
     ]
    }
   ],
   "source": [
    "%%time\n",
    "_ = get_true_val(mapping,top3.view(-1)).view(-1,3)"
   ]
  },
  {
   "cell_type": "code",
   "execution_count": 103,
   "id": "practical-translator",
   "metadata": {},
   "outputs": [
    {
     "name": "stdout",
     "output_type": "stream",
     "text": [
      "CPU times: user 792 µs, sys: 4.05 ms, total: 4.84 ms\n",
      "Wall time: 4.35 ms\n"
     ]
    },
    {
     "data": {
      "text/plain": [
       "tensor(33.7162)"
      ]
     },
     "execution_count": 103,
     "metadata": {},
     "output_type": "execute_result"
    }
   ],
   "source": [
    "%%time\n",
    "get_true_val(mapping,topk.view(-1)).view(-1,k).median(dim=1).values.mean()"
   ]
  },
  {
   "cell_type": "code",
   "execution_count": 59,
   "id": "global-blackberry",
   "metadata": {},
   "outputs": [
    {
     "name": "stdout",
     "output_type": "stream",
     "text": [
      "CPU times: user 12.6 ms, sys: 0 ns, total: 12.6 ms\n",
      "Wall time: 3.93 ms\n"
     ]
    },
    {
     "data": {
      "text/plain": [
       "tensor(33.7162)"
      ]
     },
     "execution_count": 59,
     "metadata": {},
     "output_type": "execute_result"
    }
   ],
   "source": [
    "%%time\n",
    "get_true_val(mapping,preds.view(-1,950).argmax(1)).mean()"
   ]
  },
  {
   "cell_type": "code",
   "execution_count": 37,
   "id": "beginning-market",
   "metadata": {},
   "outputs": [
    {
     "data": {
      "text/plain": [
       "tensor(6.8633, grad_fn=<NllLossBackward>)"
      ]
     },
     "execution_count": 37,
     "metadata": {},
     "output_type": "execute_result"
    }
   ],
   "source": [
    "nn.CrossEntropyLoss()(preds.view(-1,950),m['target'].view(-1))"
   ]
  },
  {
   "cell_type": "code",
   "execution_count": null,
   "id": "amino-plastic",
   "metadata": {},
   "outputs": [],
   "source": []
  },
  {
   "cell_type": "code",
   "execution_count": 42,
   "id": "equal-punishment",
   "metadata": {},
   "outputs": [],
   "source": [
    "def get_true_val(mapping,tensor):\n",
    "    return torch.tensor([mapping[x.item()] for x in tensor])    "
   ]
  },
  {
   "cell_type": "code",
   "execution_count": 62,
   "id": "hollow-aquatic",
   "metadata": {},
   "outputs": [],
   "source": [
    "# get_true_val(pressure_reverse_dict,m['target'].view(-1))"
   ]
  },
  {
   "cell_type": "code",
   "execution_count": 81,
   "id": "collective-heart",
   "metadata": {},
   "outputs": [],
   "source": [
    "true_preds = get_true_val(pressure_reverse_dict,preds.argmax(2).view(-1))"
   ]
  },
  {
   "cell_type": "code",
   "execution_count": 84,
   "id": "interim-variance",
   "metadata": {},
   "outputs": [
    {
     "data": {
      "text/plain": [
       "array([851, 143, 906, 168, 906, 906, 869, 757, 906, 906, 906, 906, 843,\n",
       "       516, 843, 906, 843, 662, 143, 906, 906, 869, 869, 906, 906, 168,\n",
       "       843, 280, 906, 143, 168, 843, 843, 906, 843, 906, 843, 280, 843,\n",
       "       906, 280, 168, 869, 906, 906, 143, 906, 843, 711, 168, 280, 869,\n",
       "       843, 280, 168, 906, 869, 823, 168, 843, 906, 823, 906, 168, 516,\n",
       "       869, 280, 906, 851, 143, 843, 906, 143, 869, 869, 906, 143, 143,\n",
       "       906, 280, 143, 168, 143, 906, 168, 906, 906, 906, 906, 906, 843,\n",
       "       906, 168, 869, 168, 869, 843, 175, 869, 843, 906, 869, 906, 906,\n",
       "       906, 843, 869, 906, 843, 906, 861, 906, 906, 168, 869, 168, 843,\n",
       "       869, 843, 906, 843, 143, 168, 843, 843, 843, 168, 659, 869, 143,\n",
       "       906, 869, 143, 859, 280, 143, 906, 906, 869, 168, 843, 906, 843,\n",
       "       906, 143, 168, 869, 143, 843, 143, 143, 843, 143, 843, 906, 869,\n",
       "       823, 843, 843, 143, 364, 143, 168, 906, 168, 906, 143, 843, 906,\n",
       "       168, 843, 851, 869, 906, 168, 851, 843, 662, 168, 906, 175, 168,\n",
       "       869, 168, 843, 869, 843, 906, 843, 474, 175, 869, 906, 143, 906,\n",
       "       662, 143, 143, 843, 843, 516, 838, 869, 143, 168, 906, 843, 168,\n",
       "       906, 168, 143, 869, 168, 906, 168, 906, 906, 869, 823, 869, 859,\n",
       "       906, 851, 168, 906, 906, 168, 168, 843, 168, 143, 280, 843, 869,\n",
       "       906, 869, 851, 843, 143, 168, 364, 168, 906, 143, 851, 168, 906,\n",
       "       823, 280, 906, 906, 869, 869, 168, 869, 869, 869, 869, 168, 843,\n",
       "       906, 843, 906, 859, 143, 906, 869, 843, 869, 906, 869, 143, 168,\n",
       "       175, 280, 869, 906, 843, 168, 906, 168, 364, 143, 168, 869, 843,\n",
       "       516, 143, 851, 869, 143, 143, 280, 906, 508, 168, 143, 906, 906,\n",
       "       280, 711, 906, 823, 869, 906, 906, 175, 859, 906, 168, 859, 843,\n",
       "       869, 869, 906, 168, 143, 869, 869, 143, 906, 851, 869, 851, 168,\n",
       "       843, 906, 823, 906, 843, 851, 869, 906, 906, 280, 869, 843, 168,\n",
       "       280, 906, 906, 168, 851, 175, 906, 869, 869, 843, 906, 843, 280,\n",
       "       906, 168, 168, 906, 869, 843, 143, 869, 906, 168, 906, 906, 869,\n",
       "       843, 843, 906, 869, 843, 843, 168, 143, 508, 843, 906, 168, 851,\n",
       "       843, 906, 906, 662, 168, 143, 851, 869, 823, 168, 168, 906, 168,\n",
       "       906, 168, 843, 851, 906, 906, 843, 280, 906, 869, 143, 869, 659,\n",
       "       843, 168, 906, 168, 843, 143, 906, 906, 168, 906, 869, 906, 869,\n",
       "       869, 906, 869, 168, 659, 843, 906, 168, 843, 851, 843, 906, 906,\n",
       "       859, 843, 168, 906, 843, 869, 906, 168, 168, 843, 843, 906, 906,\n",
       "       869, 906, 168, 168, 280, 843, 659, 906, 869, 869, 823, 168, 906,\n",
       "       843, 843, 869, 842, 168, 143, 280, 906, 869, 869, 662, 859, 168,\n",
       "       906, 869, 843, 843, 143, 906, 364, 143, 143, 280, 168, 906, 143,\n",
       "       906, 906, 843, 906, 175, 168, 869, 906, 906, 906, 843, 168, 869,\n",
       "       869, 823, 711, 280, 851, 508, 851, 143, 869, 168, 168, 843, 843,\n",
       "       168, 843, 168, 869, 906, 168, 280, 906, 881, 869, 168, 143, 906,\n",
       "       906, 143, 859, 143, 843, 906, 906, 843, 143, 906, 906, 851, 843,\n",
       "       869, 906, 869, 168, 843, 843, 143, 869, 364, 168, 869, 168, 364,\n",
       "       168, 869, 906, 168, 843, 869, 843, 859, 168, 175, 869, 168, 869,\n",
       "       143, 143, 168, 906, 143, 906, 143, 869, 869, 364, 143, 168, 168,\n",
       "       168, 250, 168, 843, 843, 175, 168, 906, 869, 168, 168, 143, 851,\n",
       "       859, 869, 869, 843, 906, 168, 851, 843, 906, 906, 869, 168, 843,\n",
       "       906, 280, 906, 869, 662, 843, 168, 175, 168, 906, 823, 168, 906,\n",
       "       843, 843, 906, 906, 143, 168, 143, 843, 906, 869, 906, 906, 168,\n",
       "       280, 851, 869, 843, 143, 168, 906, 168, 869, 364, 843, 906, 280,\n",
       "       843, 168, 906])"
      ]
     },
     "execution_count": 84,
     "metadata": {},
     "output_type": "execute_result"
    }
   ],
   "source": [
    "[preds.argmax(2).view(-1).numpy()]"
   ]
  },
  {
   "cell_type": "code",
   "execution_count": null,
   "id": "artificial-system",
   "metadata": {},
   "outputs": [],
   "source": [
    "get_true_val(pressure_reverse_dict,preds.argmax(2).view(-1))"
   ]
  },
  {
   "cell_type": "code",
   "execution_count": 86,
   "id": "trying-hindu",
   "metadata": {},
   "outputs": [
    {
     "data": {
      "text/plain": [
       "tensor([851, 143, 906, 168, 906, 906, 869, 757, 906, 906, 906, 906, 843, 516,\n",
       "        843, 906, 843, 662, 143, 906, 906, 869, 869, 906, 906, 168, 843, 280,\n",
       "        906, 143, 168, 843, 843, 906, 843, 906, 843, 280, 843, 906, 280, 168,\n",
       "        869, 906, 906, 143, 906, 843, 711, 168, 280, 869, 843, 280, 168, 906,\n",
       "        869, 823, 168, 843, 906, 823, 906, 168, 516, 869, 280, 906, 851, 143,\n",
       "        843, 906, 143, 869, 869, 906, 143, 143, 906, 280, 143, 168, 143, 906,\n",
       "        168, 906, 906, 906, 906, 906, 843, 906, 168, 869, 168, 869, 843, 175,\n",
       "        869, 843, 906, 869, 906, 906, 906, 843, 869, 906, 843, 906, 861, 906,\n",
       "        906, 168, 869, 168, 843, 869, 843, 906, 843, 143, 168, 843, 843, 843,\n",
       "        168, 659, 869, 143, 906, 869, 143, 859, 280, 143, 906, 906, 869, 168,\n",
       "        843, 906, 843, 906, 143, 168, 869, 143, 843, 143, 143, 843, 143, 843,\n",
       "        906, 869, 823, 843, 843, 143, 364, 143, 168, 906, 168, 906, 143, 843,\n",
       "        906, 168, 843, 851, 869, 906, 168, 851, 843, 662, 168, 906, 175, 168,\n",
       "        869, 168, 843, 869, 843, 906, 843, 474, 175, 869, 906, 143, 906, 662,\n",
       "        143, 143, 843, 843, 516, 838, 869, 143, 168, 906, 843, 168, 906, 168,\n",
       "        143, 869, 168, 906, 168, 906, 906, 869, 823, 869, 859, 906, 851, 168,\n",
       "        906, 906, 168, 168, 843, 168, 143, 280, 843, 869, 906, 869, 851, 843,\n",
       "        143, 168, 364, 168, 906, 143, 851, 168, 906, 823, 280, 906, 906, 869,\n",
       "        869, 168, 869, 869, 869, 869, 168, 843, 906, 843, 906, 859, 143, 906,\n",
       "        869, 843, 869, 906, 869, 143, 168, 175, 280, 869, 906, 843, 168, 906,\n",
       "        168, 364, 143, 168, 869, 843, 516, 143, 851, 869, 143, 143, 280, 906,\n",
       "        508, 168, 143, 906, 906, 280, 711, 906, 823, 869, 906, 906, 175, 859,\n",
       "        906, 168, 859, 843, 869, 869, 906, 168, 143, 869, 869, 143, 906, 851,\n",
       "        869, 851, 168, 843, 906, 823, 906, 843, 851, 869, 906, 906, 280, 869,\n",
       "        843, 168, 280, 906, 906, 168, 851, 175, 906, 869, 869, 843, 906, 843,\n",
       "        280, 906, 168, 168, 906, 869, 843, 143, 869, 906, 168, 906, 906, 869,\n",
       "        843, 843, 906, 869, 843, 843, 168, 143, 508, 843, 906, 168, 851, 843,\n",
       "        906, 906, 662, 168, 143, 851, 869, 823, 168, 168, 906, 168, 906, 168,\n",
       "        843, 851, 906, 906, 843, 280, 906, 869, 143, 869, 659, 843, 168, 906,\n",
       "        168, 843, 143, 906, 906, 168, 906, 869, 906, 869, 869, 906, 869, 168,\n",
       "        659, 843, 906, 168, 843, 851, 843, 906, 906, 859, 843, 168, 906, 843,\n",
       "        869, 906, 168, 168, 843, 843, 906, 906, 869, 906, 168, 168, 280, 843,\n",
       "        659, 906, 869, 869, 823, 168, 906, 843, 843, 869, 842, 168, 143, 280,\n",
       "        906, 869, 869, 662, 859, 168, 906, 869, 843, 843, 143, 906, 364, 143,\n",
       "        143, 280, 168, 906, 143, 906, 906, 843, 906, 175, 168, 869, 906, 906,\n",
       "        906, 843, 168, 869, 869, 823, 711, 280, 851, 508, 851, 143, 869, 168,\n",
       "        168, 843, 843, 168, 843, 168, 869, 906, 168, 280, 906, 881, 869, 168,\n",
       "        143, 906, 906, 143, 859, 143, 843, 906, 906, 843, 143, 906, 906, 851,\n",
       "        843, 869, 906, 869, 168, 843, 843, 143, 869, 364, 168, 869, 168, 364,\n",
       "        168, 869, 906, 168, 843, 869, 843, 859, 168, 175, 869, 168, 869, 143,\n",
       "        143, 168, 906, 143, 906, 143, 869, 869, 364, 143, 168, 168, 168, 250,\n",
       "        168, 843, 843, 175, 168, 906, 869, 168, 168, 143, 851, 859, 869, 869,\n",
       "        843, 906, 168, 851, 843, 906, 906, 869, 168, 843, 906, 280, 906, 869,\n",
       "        662, 843, 168, 175, 168, 906, 823, 168, 906, 843, 843, 906, 906, 143,\n",
       "        168, 143, 843, 906, 869, 906, 906, 168, 280, 851, 869, 843, 143, 168,\n",
       "        906, 168, 869, 364, 843, 906, 280, 843, 168, 906])"
      ]
     },
     "execution_count": 86,
     "metadata": {},
     "output_type": "execute_result"
    }
   ],
   "source": [
    "preds.view(-1,950).argmax(1)"
   ]
  },
  {
   "cell_type": "code",
   "execution_count": 65,
   "id": "breathing-alexander",
   "metadata": {},
   "outputs": [
    {
     "data": {
      "text/plain": [
       "torch.Size([8, 80, 950])"
      ]
     },
     "execution_count": 65,
     "metadata": {},
     "output_type": "execute_result"
    }
   ],
   "source": [
    "preds.shape"
   ]
  },
  {
   "cell_type": "code",
   "execution_count": null,
   "id": "present-jordan",
   "metadata": {},
   "outputs": [],
   "source": []
  }
 ],
 "metadata": {
  "kernelspec": {
   "display_name": "Python 3",
   "language": "python",
   "name": "python3"
  },
  "language_info": {
   "codemirror_mode": {
    "name": "ipython",
    "version": 3
   },
   "file_extension": ".py",
   "mimetype": "text/x-python",
   "name": "python",
   "nbconvert_exporter": "python",
   "pygments_lexer": "ipython3",
   "version": "3.8.8"
  }
 },
 "nbformat": 4,
 "nbformat_minor": 5
}
